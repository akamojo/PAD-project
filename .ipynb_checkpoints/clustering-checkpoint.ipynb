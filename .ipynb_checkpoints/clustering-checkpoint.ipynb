{
 "cells": [
  {
   "cell_type": "markdown",
   "metadata": {},
   "source": [
    "usunac atrybut klasy przed klastrowaniem\n",
    "efficiency of algo, ile razy przy deterministycznej inicjalizacji trzeba bylo odpalic, itp"
   ]
  },
  {
   "cell_type": "code",
   "execution_count": 102,
   "metadata": {},
   "outputs": [],
   "source": [
    "import numpy as np"
   ]
  },
  {
   "cell_type": "code",
   "execution_count": 155,
   "metadata": {},
   "outputs": [],
   "source": [
    "X = np.array([[1.0, 1.0], [1.0, 5.0], [3.0, 2.0]])\n",
    "cluster = [1, 2]"
   ]
  },
  {
   "cell_type": "code",
   "execution_count": 156,
   "metadata": {},
   "outputs": [
    {
     "name": "stdout",
     "output_type": "stream",
     "text": [
      "[2.  3.5]\n"
     ]
    }
   ],
   "source": [
    "def center(X, cluster):\n",
    "    nn, mm = X.shape\n",
    "    ccc = []\n",
    "    for jj in range(mm):\n",
    "        zz = np.array(X[:, jj])\n",
    "        zc = zz[cluster]\n",
    "        ccc.append(np.mean(zc, dtype=np.float32))\n",
    "    \n",
    "    return np.array(ccc)\n",
    "\n",
    "print(center(X, cluster))"
   ]
  },
  {
   "cell_type": "code",
   "execution_count": 157,
   "metadata": {},
   "outputs": [
    {
     "name": "stdout",
     "output_type": "stream",
     "text": [
      "[0.28472222 0.45138889 0.47222222]\n"
     ]
    }
   ],
   "source": [
    "def dist(X, remains, range_in, a):\n",
    "    nn, mm = X.shape\n",
    "    rr = len(remains)\n",
    "    distan = np.zeros(rr)\n",
    "    \n",
    "    for jj in range(mm):\n",
    "        z = X[:, jj]\n",
    "        zz = z[remains]\n",
    "        y = zz - a[jj]\n",
    "        y = y / range_in[jj]\n",
    "        yy = np.multiply(y, y)\n",
    "        #yy = np.reshape(yy,(-1,1))\n",
    "        distan += yy\n",
    "        \n",
    "    return distan\n",
    "\n",
    "remains = np.array([*range(X.shape[0])])\n",
    "range_in = []\n",
    "me = []\n",
    "\n",
    "for j in range(X.shape[1]):\n",
    "    range_in.append(max(X[:, j]) - min(X[:, j]))\n",
    "    me.append(np.mean(X[:, j]))\n",
    "\n",
    "print(dist(X, remains, range_in, me))"
   ]
  },
  {
   "cell_type": "code",
   "execution_count": 158,
   "metadata": {},
   "outputs": [
    {
     "name": "stdout",
     "output_type": "stream",
     "text": [
      "[0.28472222 0.45138889 0.47222222]\n"
     ]
    }
   ],
   "source": [
    "def distm(X, remains, range_in, a):\n",
    "    nn, mm = X.shape\n",
    "    rr = len(remains)\n",
    "    z = X[remains, :]\n",
    "    az = np.tile(a, (rr, 1))\n",
    "    rz = np.tile(range_in, (rr, 1))\n",
    "    dz = np.divide(z - az, rz)\n",
    "    ddz = np.multiply(dz, dz)\n",
    "    \n",
    "    if mm > 1:\n",
    "        di = sum(ddz.T)\n",
    "    else:\n",
    "        di = ddz.T\n",
    "    \n",
    "    return np.array(di.T)\n",
    "\n",
    "remains = np.array([*range(X.shape[0])])\n",
    "range_in = []\n",
    "me = []\n",
    "\n",
    "for j in range(X.shape[1]):\n",
    "    range_in.append(max(X[:, j]) - min(X[:, j]))\n",
    "    me.append(np.mean(X[:, j]))\n",
    "\n",
    "print(distm(X, remains, range_in, me))"
   ]
  },
  {
   "cell_type": "code",
   "execution_count": 159,
   "metadata": {},
   "outputs": [
    {
     "data": {
      "text/plain": [
       "array([-1.66666667, -2.66666667])"
      ]
     },
     "execution_count": 159,
     "metadata": {},
     "output_type": "execute_result"
    }
   ],
   "source": [
    "be = np.multiply(-1, me)\n",
    "be"
   ]
  },
  {
   "cell_type": "code",
   "execution_count": 160,
   "metadata": {},
   "outputs": [
    {
     "data": {
      "text/plain": [
       "array([0, 1, 2])"
      ]
     },
     "execution_count": 160,
     "metadata": {},
     "output_type": "execute_result"
    }
   ],
   "source": [
    "def separc(X0, remains, range_in, a, b):\n",
    "    dista = distm(X0, remains, range_in, a)\n",
    "    distb = distm(X0, remains, range_in, b)\n",
    "    clus = dista < distb  # has to be np array\n",
    "    cluster = remains[clus]\n",
    "    return cluster #??\n",
    "\n",
    "separc(X, remains, range_in, me, be)"
   ]
  },
  {
   "cell_type": "code",
   "execution_count": 161,
   "metadata": {},
   "outputs": [
    {
     "name": "stdout",
     "output_type": "stream",
     "text": [
      "Hit 1 for NO normalization or just \"enter\"\n",
      "1\n",
      "([1.6666666666666667, 2.6666666666666665], [2.0, 4.0], [1.0, 1.0], [3.0, 5.0], '1')\n"
     ]
    }
   ],
   "source": [
    "def stand(X):\n",
    "    nn, mm = X.shape\n",
    "    print('Hit 1 for NO normalization or just \"enter\"')\n",
    "    sst = input()\n",
    "    me = []\n",
    "    mmax = []\n",
    "    mmin = []\n",
    "    range_in = []\n",
    "    \n",
    "    for jj in range(mm):\n",
    "        z = X[:, jj]\n",
    "        me.append(np.mean(z))\n",
    "        mmax.append(np.max(z))\n",
    "        mmin.append(np.min(z))\n",
    "        \n",
    "        if sst != \"1\":\n",
    "            range_in.append(1)\n",
    "        else:\n",
    "            range_in.append(mmax[jj] - mmin[jj])\n",
    "        \n",
    "        if range_in[jj] == 0:\n",
    "            print('Variable number' + str(jj) + '  is constant!')\n",
    "            range_in[jj] = 1\n",
    "    \n",
    "    return me, range_in, mmin, mmax, sst\n",
    "\n",
    "print(stand(X))"
   ]
  },
  {
   "cell_type": "code",
   "execution_count": 162,
   "metadata": {},
   "outputs": [
    {
     "name": "stdout",
     "output_type": "stream",
     "text": [
      "(array([], dtype=int32), [0, 0])\n"
     ]
    }
   ],
   "source": [
    "def anpat(X, remains, range_in, centroid, me):\n",
    "    count = 0\n",
    "    key = 1\n",
    "    \n",
    "    while key == 1:\n",
    "        cluster = separc(X, remains, range_in, centroid, me)\n",
    "        if len(cluster) != 0:\n",
    "            newcenter = center(X, cluster)\n",
    "        else:\n",
    "            newcenter = centroid\n",
    "        if not np.array_equal(centroid, newcenter):\n",
    "            centroid = newcenter\n",
    "        else:\n",
    "            key = 0\n",
    "    \n",
    "    return cluster, centroid\n",
    "\n",
    "print(anpat(X, remains, range_in, [0, 0], me))"
   ]
  },
  {
   "cell_type": "code",
   "execution_count": 163,
   "metadata": {},
   "outputs": [
    {
     "name": "stdout",
     "output_type": "stream",
     "text": [
      "{(0, 1): array([0, 1, 2]), (0, 2): array([-0.83333333, -0.66666667]), (0, 3): array([[-625.        , -320.00000119],\n",
      "       [-625.        ,  228.57142942],\n",
      "       [ 312.5       , -800.00000298]])}\n"
     ]
    }
   ],
   "source": [
    "def anomalous(X, me, range_in, D):\n",
    "    nn, mm = X.shape\n",
    "    remains = np.array([*range(nn)])\n",
    "    number = -1\n",
    "    ancl = dict()\n",
    "    \n",
    "    while len(remains) > 0:\n",
    "        distance = dist(X, remains, range_in, me)\n",
    "        ind = np.argmax(distance)\n",
    "        index = remains[ind]\n",
    "        centroid = X[index, :]\n",
    "        number += 1\n",
    "        cluster, centroid = anpat(X, remains, range_in, centroid, me)\n",
    "        #print(cluster, centroid)\n",
    "        ancl[(number, 1)] = cluster\n",
    "        censtand = np.divide(centroid - me, range_in)\n",
    "        dD = censtand * censtand.T * len(cluster) * 100 / D\n",
    "        ancl[(number, 2)] = censtand\n",
    "        ancl[(number, 3)] = dD\n",
    "        remains = np.array(list(set(remains) - set(cluster)))\n",
    "    \n",
    "    return ancl\n",
    "\n",
    "D = X\n",
    "for i in range(2):\n",
    "    D[:,i] = (D[:,i] - me[i]) / range_in[i]\n",
    "\n",
    "print(anomalous(X, me, range_in, D))"
   ]
  }
 ],
 "metadata": {
  "kernelspec": {
   "display_name": "Python 3",
   "language": "python",
   "name": "python3"
  },
  "language_info": {
   "codemirror_mode": {
    "name": "ipython",
    "version": 3
   },
   "file_extension": ".py",
   "mimetype": "text/x-python",
   "name": "python",
   "nbconvert_exporter": "python",
   "pygments_lexer": "ipython3",
   "version": "3.7.0"
  }
 },
 "nbformat": 4,
 "nbformat_minor": 2
}
