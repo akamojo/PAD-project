{
 "cells": [
  {
   "cell_type": "markdown",
   "metadata": {},
   "source": [
    "usunac atrybut klasy przed klastrowaniem\n",
    "efficiency of algo, ile razy przy deterministycznej inicjalizacji trzeba bylo odpalic, itp"
   ]
  },
  {
   "cell_type": "code",
   "execution_count": 1,
   "metadata": {},
   "outputs": [],
   "source": [
    "import numpy as np"
   ]
  },
  {
   "cell_type": "code",
   "execution_count": 24,
   "metadata": {},
   "outputs": [],
   "source": [
    "X = np.array([[1.0, 1.0], [1.0, 5.0], [3.0, 2.0]])\n",
    "cluster = [1, 2]\n",
    "ccc = np.array([0.0, 0.0])"
   ]
  },
  {
   "cell_type": "code",
   "execution_count": 3,
   "metadata": {},
   "outputs": [
    {
     "name": "stdout",
     "output_type": "stream",
     "text": [
      "[2.  3.5]\n"
     ]
    }
   ],
   "source": [
    "def center(X, cluster, ccc):\n",
    "    nn, mm = X.shape\n",
    "    for jj in range(mm):\n",
    "        zz = X[:, jj]\n",
    "        zc = zz[cluster]\n",
    "        ccc[jj] = np.mean(zc, dtype=np.float32)\n",
    "    \n",
    "    return ccc\n",
    "\n",
    "print(center(X, cluster, ccc))"
   ]
  },
  {
   "cell_type": "code",
   "execution_count": 32,
   "metadata": {},
   "outputs": [
    {
     "name": "stdout",
     "output_type": "stream",
     "text": [
      "[0.66666667 0.54166667]\n"
     ]
    }
   ],
   "source": [
    "def dist(X, remains, range_in, a):\n",
    "    nn, mm = X.shape\n",
    "    rr = len(remains)\n",
    "    distan = []\n",
    "    \n",
    "    for jj in range(mm):\n",
    "        z = X[:, jj]\n",
    "        zz = z[remains]\n",
    "        y = zz - a[jj]\n",
    "        y = y / range_in[jj]\n",
    "        yy = np.dot(y, y.T)\n",
    "        distan.append(yy)\n",
    "        \n",
    "    return np.array(distan)\n",
    "\n",
    "remains = [*range(X.shape[0])]\n",
    "range_in = []\n",
    "me = []\n",
    "\n",
    "for j in range(X.shape[1]):\n",
    "    range_in.append(max(X[:, j]) - min(X[:, j]))\n",
    "    me.append(np.mean(X[:, j]))\n",
    "\n",
    "print(dist(X, remains, range_in, me))"
   ]
  },
  {
   "cell_type": "code",
   "execution_count": 33,
   "metadata": {},
   "outputs": [
    {
     "name": "stdout",
     "output_type": "stream",
     "text": [
      "[0.28472222 0.45138889 0.47222222]\n"
     ]
    }
   ],
   "source": [
    "def distm(X, remains, range_in, a):\n",
    "    nn, mm = X.shape\n",
    "    rr = len(remains)\n",
    "    z = X[remains, :]\n",
    "    az = np.tile(a, (rr, 1))\n",
    "    rz = np.tile(range_in, (rr, 1))\n",
    "    dz = np.divide(z - az, rz)\n",
    "    ddz = np.multiply(dz, dz)\n",
    "    \n",
    "    if mm > 1:\n",
    "        di = sum(ddz.T)\n",
    "    else:\n",
    "        di = ddz.T\n",
    "    \n",
    "    return np.array(di.T)\n",
    "\n",
    "remains = [*range(X.shape[0])]\n",
    "range_in = []\n",
    "me = []\n",
    "\n",
    "for j in range(X.shape[1]):\n",
    "    range_in.append(max(X[:, j]) - min(X[:, j]))\n",
    "    me.append(np.mean(X[:, j]))\n",
    "\n",
    "print(distm(X, remains, range_in, me))"
   ]
  },
  {
   "cell_type": "code",
   "execution_count": 17,
   "metadata": {},
   "outputs": [],
   "source": [
    "def separc(X0, remains, range_in, a, b):\n",
    "    dista = distm(X0, remains, range_in, a)\n",
    "    distb = distm(X0, remains, range_in, b)\n",
    "    clus = dista < distb  # has to be np array\n",
    "    cluster = remains[clus]\n",
    "    return cluster #??"
   ]
  },
  {
   "cell_type": "code",
   "execution_count": 27,
   "metadata": {},
   "outputs": [
    {
     "name": "stdout",
     "output_type": "stream",
     "text": [
      "Hit 1 for NO normalization or just \"enter\"\n",
      "1\n"
     ]
    },
    {
     "data": {
      "text/plain": [
       "([1.6666666666666667, 2.6666666666666665],\n",
       " [2.0, 4.0],\n",
       " [1.0, 1.0],\n",
       " [3.0, 5.0],\n",
       " '1')"
      ]
     },
     "execution_count": 27,
     "metadata": {},
     "output_type": "execute_result"
    }
   ],
   "source": [
    "def stand(X):\n",
    "    nn, mm = X.shape\n",
    "    print('Hit 1 for NO normalization or just \"enter\"')\n",
    "    sst = input()\n",
    "    me = []\n",
    "    mmax = []\n",
    "    mmin = []\n",
    "    range_in = []\n",
    "    \n",
    "    for jj in range(mm):\n",
    "        z = X[:, jj]\n",
    "        me.append(np.mean(z))\n",
    "        mmax.append(np.max(z))\n",
    "        mmin.append(np.min(z))\n",
    "        \n",
    "        if sst != \"1\":\n",
    "            range_in.append(1)\n",
    "        else:\n",
    "            range_in.append(mmax[jj] - mmin[jj])\n",
    "        \n",
    "        if range_in[jj] == 0:\n",
    "            print('Variable number' + str(jj) + '  is constant!')\n",
    "            range_in[jj] = 1\n",
    "    \n",
    "    return me, range_in, mmin, mmax, sst\n",
    "\n",
    "stand(X)"
   ]
  },
  {
   "cell_type": "code",
   "execution_count": 21,
   "metadata": {},
   "outputs": [],
   "source": [
    "def anpat(X, remains, range_in, centroid, me):\n",
    "    count = 0\n",
    "    key = 1\n",
    "    \n",
    "    while key == 1:\n",
    "        cluster = separc(X, remains, range_in, centroid, me)\n",
    "        if len(cluster) != 0:\n",
    "            newcenter = center(X, cluster)\n",
    "        else:\n",
    "            newcenter = centroid\n",
    "        if centroid != newcenter:\n",
    "            centroid = newcenter\n",
    "        else:\n",
    "            key = 0\n",
    "    \n",
    "    return cluster, centroid"
   ]
  },
  {
   "cell_type": "code",
   "execution_count": null,
   "metadata": {},
   "outputs": [],
   "source": [
    "def anomalous(X, me, range_in, D):\n",
    "    nn, mm = X.shape\n",
    "    remains = [*range(nn)]\n",
    "    number = 0\n",
    "    \n",
    "    while len(remains) > 0:\n",
    "        distance = dist(X, remains, range_in, me)\n",
    "        #d, ind = "
   ]
  }
 ],
 "metadata": {
  "kernelspec": {
   "display_name": "Python 3",
   "language": "python",
   "name": "python3"
  },
  "language_info": {
   "codemirror_mode": {
    "name": "ipython",
    "version": 3
   },
   "file_extension": ".py",
   "mimetype": "text/x-python",
   "name": "python",
   "nbconvert_exporter": "python",
   "pygments_lexer": "ipython3",
   "version": "3.7.0"
  }
 },
 "nbformat": 4,
 "nbformat_minor": 2
}
