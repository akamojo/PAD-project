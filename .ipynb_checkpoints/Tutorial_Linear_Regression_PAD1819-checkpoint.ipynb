{
 "cells": [
  {
   "cell_type": "markdown",
   "metadata": {},
   "source": [
    "# Data Analysis and Mining 2018/ 2019\n",
    "\n",
    "## Linear Regression Tutorial\n",
    "\n"
   ]
  },
  {
   "cell_type": "markdown",
   "metadata": {},
   "source": [
    "#### Important Note:  \n",
    "**Do not** select the option *Run All Cells* on this notebook or otherwise you will lose the reference plots for the exercises."
   ]
  },
  {
   "cell_type": "markdown",
   "metadata": {},
   "source": [
    "### Objectives \n",
    "This tutorial explains how to:\n",
    "- Perform simple linear regression \n",
    "- Use correlation analysis to determine whether two quantities are related to justify fitting the data.\n",
    "- Fit a linear model to the data.\n",
    "- Evaluate the goodness of fit by plotting residuals and looking for patterns.\n",
    "- Calculate measures of goodness of fit R2 and adjusted R2"
   ]
  },
  {
   "cell_type": "markdown",
   "metadata": {},
   "source": [
    "We are going to explore the Baseball dataset presented in class."
   ]
  },
  {
   "cell_type": "markdown",
   "metadata": {},
   "source": [
    "### Setup"
   ]
  },
  {
   "cell_type": "markdown",
   "metadata": {},
   "source": [
    "We will make use of the following Python libraries:"
   ]
  },
  {
   "cell_type": "code",
   "execution_count": 1,
   "metadata": {},
   "outputs": [],
   "source": [
    "# Numpy for data management\n",
    "import numpy as np\n",
    "\n",
    "# Pandas also for data management\n",
    "import pandas as pd\n",
    "\n",
    "# Matplotlib for additional customization\n",
    "from matplotlib import pyplot as plt\n",
    "%matplotlib inline\n",
    "\n",
    "# Seaborn for plotting and styling\n",
    "import seaborn as sns\n",
    "sns.set_style(\"darkgrid\")\n",
    "\n",
    "# Stats modules\n",
    "import statsmodels.api as sm\n",
    "import scipy.stats as stats\n",
    "\n",
    "# Auxiliar libraries\n",
    "from sklearn.metrics import r2_score"
   ]
  },
  {
   "cell_type": "markdown",
   "metadata": {},
   "source": [
    "### Load dataset"
   ]
  },
  {
   "cell_type": "code",
   "execution_count": 2,
   "metadata": {},
   "outputs": [
    {
     "name": "stderr",
     "output_type": "stream",
     "text": [
      "'du' is not recognized as an internal or external command,\n",
      "operable program or batch file.\n"
     ]
    }
   ],
   "source": [
    "!du -h baseball_DataSet.txt"
   ]
  },
  {
   "cell_type": "code",
   "execution_count": 3,
   "metadata": {},
   "outputs": [
    {
     "name": "stderr",
     "output_type": "stream",
     "text": [
      "'head' is not recognized as an internal or external command,\n",
      "operable program or batch file.\n"
     ]
    }
   ],
   "source": [
    "!head -10 baseball_DataSet.txt"
   ]
  },
  {
   "cell_type": "markdown",
   "metadata": {},
   "source": [
    "Having a small glance at the data file we can check that:  \n",
    "    - The data fits in RAM\n",
    "    - The data is structured, tabular and tab separated\n",
    "    - No header row\n",
    "    - No index column\n",
    "    - The features are all numerical continous and numerical discrete"
   ]
  },
  {
   "cell_type": "code",
   "execution_count": 5,
   "metadata": {},
   "outputs": [
    {
     "data": {
      "text/plain": [
       "(209, 15)"
      ]
     },
     "execution_count": 5,
     "metadata": {},
     "output_type": "execute_result"
    }
   ],
   "source": [
    "# load the text file\n",
    "data = np.loadtxt('baseball_DataSet.txt') \n",
    "data.shape"
   ]
  },
  {
   "cell_type": "markdown",
   "metadata": {},
   "source": [
    "The data in this file has already excluded the players whose number of bats were less than 100, as stated in the slides.  \n",
    "The data file *baseball_Content.txt* contains the complete dataset and a header row."
   ]
  },
  {
   "cell_type": "markdown",
   "metadata": {},
   "source": [
    "### Features to be analysed"
   ]
  },
  {
   "cell_type": "markdown",
   "metadata": {},
   "source": [
    "We will seek to model the relationship between the number of home runs, the dependent variable, and the batting average of baseball players(the independent variable)."
   ]
  },
  {
   "cell_type": "code",
   "execution_count": 6,
   "metadata": {},
   "outputs": [],
   "source": [
    "# You can check the indexes in the file baseball_Content.txt\n",
    "x = data[:,10:11] # Bat_Average\n",
    "y = data[:,6] # Home_runs"
   ]
  },
  {
   "cell_type": "code",
   "execution_count": 7,
   "metadata": {},
   "outputs": [
    {
     "data": {
      "image/png": "[encoded data removed]",
      "text/plain": [
       "<Figure size 432x288 with 1 Axes>"
      ]
     },
     "metadata": {
      "needs_background": "light"
     },
     "output_type": "display_data"
    }
   ],
   "source": [
    "ax = sns.regplot(x=x, y=y, fit_reg=False, scatter_kws={'alpha':0.5})\n",
    "ax.set(xlabel='Bat Average', \n",
    "       ylabel='Home runs');"
   ]
  },
  {
   "cell_type": "markdown",
   "metadata": {},
   "source": [
    "#### Pre-processing details in Numpy"
   ]
  },
  {
   "cell_type": "markdown",
   "metadata": {},
   "source": [
    "When slicing numpy d-arrays to a 1D array, column slice or row slice, numpy will 'change' you numpy array shape attribute to (vector size,) instead of (vector size,1) or (1, vector size).  \n",
    "Down the line, when using matrix operations on these vectors you may encounter some errors due to dimensions mismatch. To avoid this just use start:end slice syntax, knowing that the end argument is exclusive."
   ]
  },
  {
   "cell_type": "code",
   "execution_count": 8,
   "metadata": {},
   "outputs": [
    {
     "name": "stdout",
     "output_type": "stream",
     "text": [
      "(209,)\n",
      "(209, 1)\n",
      "(209, 1)\n"
     ]
    }
   ],
   "source": [
    "print(data[:,10].shape)\n",
    "print(data[:,10:11].shape)\n",
    "\n",
    "# you can always use reshape if you need to reshape a vector\n",
    "# notice the -1 argument stating that the row value is undetermined and to be defined by numpy\n",
    "print(np.reshape(data[:,10],(-1,1)).shape) "
   ]
  },
  {
   "cell_type": "markdown",
   "metadata": {},
   "source": [
    "### Linear Regression"
   ]
  },
  {
   "cell_type": "markdown",
   "metadata": {},
   "source": [
    "To model a linear relationship between one independent and dependent variable, consider\n",
    "\n",
    "$$Y = \\beta X + \\epsilon$$.\n",
    "\n",
    "Use Least Squares error to estimate the coefficients:  \n",
    "\n",
    "$$\\sum{ (Y - \\hat{Y})^2}, \\quad \\hat{Y} = X\\hat{\\beta}$$\n",
    "\n",
    "$$\\hat{\\beta} = (X^TX)^{-1}X^TY$$  \n",
    "\n",
    "Although it is perfectly fine to use the analytical formula to obtain the linear regression coefficients it may be faster to use stable linear algebra solvers."
   ]
  },
  {
   "cell_type": "markdown",
   "metadata": {},
   "source": [
    "Numpy has several linear algebra routines implemented to aid in linear algebra operations.  \n",
    "https://docs.scipy.org/doc/numpy-1.13.0/reference/routines.linalg.html"
   ]
  },
  {
   "cell_type": "markdown",
   "metadata": {},
   "source": [
    "Using Numpy to estimate the coefficients using the formula above"
   ]
  },
  {
   "cell_type": "code",
   "execution_count": 9,
   "metadata": {},
   "outputs": [
    {
     "name": "stdout",
     "output_type": "stream",
     "text": [
      "Estimated coefficient: 46.385182843470396\n"
     ]
    }
   ],
   "source": [
    "# re-importing to ease readability\n",
    "from numpy.linalg import inv\n",
    "from numpy.linalg import det\n",
    "from numpy import dot\n",
    "\n",
    "beta = dot(dot(inv(dot(x.T, x)),x.T),y) \n",
    "print('Estimated coefficient:', beta[0])"
   ]
  },
  {
   "cell_type": "markdown",
   "metadata": {},
   "source": [
    "One of the linear algebra routines includes a solver for linear systems, *linalg.lstsq*   \n",
    "https://docs.scipy.org/doc/numpy/reference/generated/numpy.linalg.lstsq.html#numpy-linalg-lstsq"
   ]
  },
  {
   "cell_type": "code",
   "execution_count": 10,
   "metadata": {},
   "outputs": [
    {
     "name": "stdout",
     "output_type": "stream",
     "text": [
      "Estimated coefficients: 46.38518284347039\n"
     ]
    },
    {
     "name": "stderr",
     "output_type": "stream",
     "text": [
      "C:\\Users\\User\\Anaconda3\\lib\\site-packages\\ipykernel_launcher.py:1: FutureWarning: `rcond` parameter will change to the default of machine precision times ``max(M, N)`` where M and N are the input matrix dimensions.\n",
      "To use the future default and silence this warning we advise to pass `rcond=None`, to keep using the old, explicitly pass `rcond=-1`.\n",
      "  \"\"\"Entry point for launching an IPython kernel.\n"
     ]
    }
   ],
   "source": [
    "beta = np.linalg.lstsq(x, y)[0]\n",
    "print('Estimated coefficients:', beta[0])"
   ]
  },
  {
   "cell_type": "markdown",
   "metadata": {},
   "source": [
    "As expected, the estimated coefficients match.  "
   ]
  },
  {
   "cell_type": "markdown",
   "metadata": {},
   "source": [
    "### Visualize the estimator \n",
    "Plot the actual values of y and the predicted values from the relationship $X\\hat{\\beta}$."
   ]
  },
  {
   "cell_type": "code",
   "execution_count": 11,
   "metadata": {},
   "outputs": [
    {
     "data": {
      "image/png": "[encoded data removed]",
      "text/plain": [
       "<Figure size 432x288 with 1 Axes>"
      ]
     },
     "metadata": {
      "needs_background": "light"
     },
     "output_type": "display_data"
    }
   ],
   "source": [
    "predictions = x * beta # making use of numpy's broadcast\n",
    "predictions_withouth_intercept = predictions\n",
    "\n",
    "ax = sns.regplot(x=x, y=y, fit_reg=False, scatter_kws={'alpha':0.5})\n",
    "ax.set(xlabel='Bat Average', \n",
    "       ylabel='Home runs',\n",
    "       title='Linear Regression Relation bt. X & Y');\n",
    "plt.plot(x, predictions) # overlay a line plot over a scatter plot \n",
    "plt.show()"
   ]
  },
  {
   "cell_type": "markdown",
   "metadata": {},
   "source": [
    "### Improve the fit \n",
    "Include an intercept term $\\beta_0$ in your model as $\\hat{Y} = \\beta_0 + \\beta_1X$.  \n",
    "Calculate  $\\beta_0$ by padding $X$ with a column of ones.\n"
   ]
  },
  {
   "cell_type": "code",
   "execution_count": 12,
   "metadata": {},
   "outputs": [
    {
     "name": "stdout",
     "output_type": "stream",
     "text": [
      "[[1.    0.3  ]\n",
      " [1.    0.308]\n",
      " [1.    0.321]\n",
      " [1.    0.297]\n",
      " [1.    0.306]]\n"
     ]
    }
   ],
   "source": [
    "constant_term = np.ones(len(x)) \n",
    "\n",
    "# append constant term as a column of x\n",
    "x = np.c_[constant_term, x]\n",
    "\n",
    "print(x[:5])"
   ]
  },
  {
   "cell_type": "code",
   "execution_count": 13,
   "metadata": {},
   "outputs": [
    {
     "name": "stdout",
     "output_type": "stream",
     "text": [
      "Estimated coefficients: [-28.14899118 153.55127216]\n",
      "Old shape of coefficients array: (2,)\n",
      "New shape of coefficients array: (2, 1)\n"
     ]
    },
    {
     "name": "stderr",
     "output_type": "stream",
     "text": [
      "C:\\Users\\User\\Anaconda3\\lib\\site-packages\\ipykernel_launcher.py:1: FutureWarning: `rcond` parameter will change to the default of machine precision times ``max(M, N)`` where M and N are the input matrix dimensions.\n",
      "To use the future default and silence this warning we advise to pass `rcond=None`, to keep using the old, explicitly pass `rcond=-1`.\n",
      "  \"\"\"Entry point for launching an IPython kernel.\n"
     ]
    }
   ],
   "source": [
    "beta = np.linalg.lstsq(x, y)[0]\n",
    "print('Estimated coefficients:', beta)\n",
    "\n",
    "# to use the dot product function we have to state that the coefficients vector is of the shape (2,1)\n",
    "print('Old shape of coefficients array:',beta.shape)\n",
    "beta = np.reshape(beta,(-1,1))\n",
    "print('New shape of coefficients array:',beta.shape)"
   ]
  },
  {
   "cell_type": "code",
   "execution_count": 14,
   "metadata": {},
   "outputs": [
    {
     "data": {
      "image/png": "[encoded data removed]",
      "text/plain": [
       "<Figure size 432x288 with 1 Axes>"
      ]
     },
     "metadata": {
      "needs_background": "light"
     },
     "output_type": "display_data"
    }
   ],
   "source": [
    "# compute new predictions\n",
    "predictions_with_intercept = dot(x,beta) \n",
    "\n",
    "ax = sns.regplot(x=x[:,1], y=y, fit_reg=False, scatter_kws={'alpha':0.5})\n",
    "ax.set(xlabel='Bat Average', \n",
    "       ylabel='Home runs',\n",
    "       title='Linear Regression Relation bt. X & Y');\n",
    "plt.plot(x[:,1], predictions_with_intercept) # overlay a line plot over a scatter plot \n",
    "plt.show()"
   ]
  },
  {
   "cell_type": "markdown",
   "metadata": {},
   "source": [
    "### Residuals and Goodness of Fit"
   ]
  },
  {
   "cell_type": "markdown",
   "metadata": {},
   "source": [
    "One measure of goodness of fit is the Coefficient of Determination, or $R^2$ (r-square)  \n",
    "This statistic indicates how closely values you obtain from fitting a model match the dependent variable the model is intended to predict.  \n",
    "The Coefficient of Determination $R^2$ falls between $0$ and $1$. The higher the value of $R^2$, the better the model is at predicting the data.  \n",
    "Statisticians often define $R^2$ using the residual variance from a fitted model:  \n",
    "\n",
    "$$R^2 = 1 – \\frac{SSresid}{SStotal}$$\n",
    "\n",
    "$SSresid$ is the sum of the squared residuals from the regression.   \n",
    "$SStotal$ is the sum of the squared differences from the mean of the dependent variable (total sum of squares).   \n",
    "Both are positive scalars."
   ]
  },
  {
   "cell_type": "markdown",
   "metadata": {},
   "source": [
    "**Exercise** - Complete the code block below."
   ]
  },
  {
   "cell_type": "code",
   "execution_count": 125,
   "metadata": {},
   "outputs": [
    {
     "data": {
      "text/plain": [
       "11.559808612440191"
      ]
     },
     "execution_count": 125,
     "metadata": {},
     "output_type": "execute_result"
    }
   ],
   "source": [
    "np.average(y)"
   ]
  },
  {
   "cell_type": "code",
   "execution_count": 126,
   "metadata": {},
   "outputs": [
    {
     "name": "stdout",
     "output_type": "stream",
     "text": [
      "SStotal: 22473.5024\n",
      "SSreg: 5179.0486\n",
      "SSres: 17294.4538\n",
      "Coefficient of Determinacy, model with intercept: 0.23\n"
     ]
    }
   ],
   "source": [
    "### SSTotal\n",
    "def ss_total(y):\n",
    "    y_av = np.average(y)\n",
    "    res = 0\n",
    "    for i in y:\n",
    "        res += (i - y_av)**2\n",
    "    return res\n",
    "\n",
    "#print(ss_total(y))\n",
    "\n",
    "### SSResiduals & SSErrors\n",
    "# Watch out for broadcast effects\n",
    "# y shape is (209,) and predictions shape is (209,1)\n",
    "# shapes have to agree when using element-wise operations in numpy\n",
    "\n",
    "\n",
    "# The regression sum of squares, also called the explained sum of squares:\n",
    "def ss_reg(pred, y):\n",
    "    y_av = np.average(y)\n",
    "    res = 0\n",
    "    for i in pred:\n",
    "        res += (i - y_av)**2\n",
    "    return res[0]\n",
    "\n",
    "#print(ss_reg(predictions_with_intercept, y))\n",
    "\n",
    "# The sum of squares of residuals, also called the residual sum of squares:\n",
    "def ss_res(pred, y):\n",
    "    res = 0\n",
    "    for i in range(len(pred)):\n",
    "        res += (y[i] - pred[i])**2\n",
    "    return res[0]\n",
    "\n",
    "#print(ss_res(predictions_with_intercept, y))\n",
    "\n",
    "# SStotal\n",
    "sstotal = ss_total(y)\n",
    "\n",
    "# We could also obtain SStotal using the target's variance\n",
    "# don't forget to get an unbiased estimate of the variance \n",
    "ss_total_using_variance = (len(y) - 1 ) * np.var(y, ddof=1) \n",
    "\n",
    "# SSReg\n",
    "ssreg = ss_reg(predictions_with_intercept, y)\n",
    "\n",
    "# SSRes\n",
    "ssres = ss_res(predictions_with_intercept, y)\n",
    "\n",
    "### R^2\n",
    "rsq_with_intercept = 1 - (ssres / sstotal)\n",
    "\n",
    "print('SStotal:', round(sstotal,4))\n",
    "print('SSreg:', round(ssreg,4))\n",
    "print('SSres:', round(ssres,4))\n",
    "print('Coefficient of Determinacy, model with intercept:', np.round(rsq_with_intercept,2))"
   ]
  },
  {
   "cell_type": "markdown",
   "metadata": {},
   "source": [
    "**R:** This should be your output"
   ]
  },
  {
   "cell_type": "markdown",
   "metadata": {},
   "source": [
    "```\n",
    "SStotal: 22473.5024\n",
    "SSreg: 5179.0486\n",
    "SSres: 17294.4538\n",
    "Coefficient of Determinacy, model with intercept: 0.23\n",
    "```"
   ]
  },
  {
   "cell_type": "markdown",
   "metadata": {},
   "source": [
    "We could now use these metrics to compare model fits to the data."
   ]
  },
  {
   "cell_type": "markdown",
   "metadata": {},
   "source": [
    "Scikit-Learn also provides a function (*r2_score*) to compute $R^2$"
   ]
  },
  {
   "cell_type": "code",
   "execution_count": 127,
   "metadata": {},
   "outputs": [
    {
     "name": "stdout",
     "output_type": "stream",
     "text": [
      "Coefficient of Determinacy: 0.23\n"
     ]
    }
   ],
   "source": [
    "print('Coefficient of Determinacy:',round(r2_score(y_true=y, y_pred=predictions_with_intercept),2))"
   ]
  },
  {
   "cell_type": "markdown",
   "metadata": {},
   "source": [
    "The next step would be to check the goodness of fit."
   ]
  },
  {
   "cell_type": "code",
   "execution_count": 128,
   "metadata": {},
   "outputs": [],
   "source": [
    "##### DON'T RUN THIS CELL BLOCK ######"
   ]
  },
  {
   "cell_type": "markdown",
   "metadata": {},
   "source": [
    "**Exercise** - Complete the code block below. Your output should match the above."
   ]
  },
  {
   "cell_type": "code",
   "execution_count": 129,
   "metadata": {},
   "outputs": [
    {
     "name": "stderr",
     "output_type": "stream",
     "text": [
      "C:\\Users\\User\\Anaconda3\\lib\\site-packages\\scipy\\stats\\stats.py:1713: FutureWarning: Using a non-tuple sequence for multidimensional indexing is deprecated; use `arr[tuple(seq)]` instead of `arr[seq]`. In the future this will be interpreted as an array index, `arr[np.array(seq)]`, which will result either in an error or a different result.\n",
      "  return np.add.reduce(sorted[indexer] * weights, axis=axis) / sumval\n"
     ]
    },
    {
     "data": {
      "image/png": "[encoded data removed]",
      "text/plain": [
       "<Figure size 1152x432 with 2 Axes>"
      ]
     },
     "metadata": {},
     "output_type": "display_data"
    }
   ],
   "source": [
    "fig, axs = plt.subplots(ncols=2, # Set the number of columns to split the figure in\n",
    "                        figsize=(16, 6)) # size of the whole figure\n",
    "\n",
    "# re-computing our model values\n",
    "predictions = dot(x,beta)\n",
    "residuals = y - predictions[:,0]\n",
    "degrees_of_freedom = len(y) - x.shape[1]\n",
    "\n",
    "sm.qqplot(residuals, \n",
    "          stats.t,\n",
    "          distargs=(degrees_of_freedom,), \n",
    "          line='q', \n",
    "          ax=axs[0])\n",
    "axs[0].set_title(label = 'Q-Q plot')\n",
    "axs[0].set_xlim(-3.5,3.5)\n",
    "\n",
    "\n",
    "residuals_standard_error = np.std(residuals)\n",
    "#residuals_standard_error = np.sqrt(sum([r**2 for r in residuals]) / (len(y) - 2))\n",
    "#print(residuals_standard_error)\n",
    "mean_independent_variable = np.mean(x[:,1])\n",
    "\n",
    "pom1 = 0\n",
    "for i in x[:,1]:\n",
    "    pom1 += (i - mean_independent_variable)**2\n",
    "    \n",
    "leverages = np.array([(1/len(y) + (i - mean_independent_variable)**2 / pom1) for i in x[:,1]])\n",
    "sid = residuals_standard_error * np.sqrt(np.full(leverages.shape, 1) - leverages)\n",
    "standardized_rediduals = residuals / sid\n",
    "\n",
    "sns.regplot(x=predictions[:,0], \n",
    "            y=standardized_rediduals, \n",
    "            ax=axs[1],\n",
    "            lowess=True, \n",
    "            scatter_kws={'alpha':0.3}, \n",
    "            line_kws={\"color\":\"r\",\"alpha\":0.4,\"lw\":2})\n",
    "plt.plot(np.arange(len(standardized_rediduals)), [0]*len(standardized_rediduals), 'r-')\n",
    "axs[1].set_ylim(-3.5,3.5)\n",
    "axs[1].set_xlim(0, 50)\n",
    "axs[1].set(ylabel='Standardized Residuals', \n",
    "           xlabel='Fitted values');\n",
    "axs[1].set_title(label = 'Standardized Residuals vs Fitted values');"
   ]
  },
  {
   "cell_type": "markdown",
   "metadata": {},
   "source": [
    "#### Linear Regression through the origin (RTO) details \n",
    "\n",
    "When the Linear Regression model is __forced__ to go through the origin, and it does not go through $(\\bar{x},\\bar{y})$, the definition of $SStotal$ and $SSres$ changes slightly, and thus $R^2$.  \n",
    "You can check the details in \n",
    "https://online.stat.psu.edu/~ajw13/stat501/SpecialTopics/Reg_thru_origin.pdf\n",
    "\n",
    "\"‘It is natural to ask if there is a measure analogous to $R^2$ for the no-intercept model\" (that does not go through $(\\bar{x},\\bar{y})$)\n",
    "\n",
    "$SStotal = \\sum{Y_i^2}$  \n",
    "$SSres = \\sum{\\hat{Y}_i^2}$"
   ]
  },
  {
   "cell_type": "code",
   "execution_count": 130,
   "metadata": {},
   "outputs": [
    {
     "name": "stdout",
     "output_type": "stream",
     "text": [
      "SStotal: 50402.0\n",
      "SSreg: 33107.5462\n",
      "SSres: 17294.4538\n",
      "Coefficient of Determinacy, model without intercept: 0.66\n"
     ]
    }
   ],
   "source": [
    "sstotal = np.sum(y**2)\n",
    "ssreg = np.sum(predictions[:,0]**2)\n",
    "ssres = ss_res(predictions, y)\n",
    "\n",
    "\n",
    "### R^2\n",
    "rsq_without_intercept = 1 - (ssres / sstotal)\n",
    "\n",
    "print('SStotal:', round(sstotal,4))\n",
    "print('SSreg:', round(ssreg,4))\n",
    "print('SSres:', round(ssres,4))\n",
    "print('Coefficient of Determinacy, model without intercept:', np.round(rsq_without_intercept,2))"
   ]
  },
  {
   "cell_type": "markdown",
   "metadata": {},
   "source": [
    "Discrepancy with standard libraries, as refered in the article."
   ]
  },
  {
   "cell_type": "code",
   "execution_count": 131,
   "metadata": {},
   "outputs": [
    {
     "name": "stdout",
     "output_type": "stream",
     "text": [
      "Coefficient of Determinacy: 0.12\n"
     ]
    }
   ],
   "source": [
    "print('Coefficient of Determinacy:',round(r2_score(y_true=y, y_pred=predictions_withouth_intercept),2))"
   ]
  },
  {
   "cell_type": "markdown",
   "metadata": {},
   "source": [
    "### Feature Engineering"
   ]
  },
  {
   "cell_type": "markdown",
   "metadata": {},
   "source": [
    "Do regression analysis with a Log transformation on the target class. Don't forget to eliminate the zero values' cases.  "
   ]
  },
  {
   "cell_type": "code",
   "execution_count": 132,
   "metadata": {},
   "outputs": [],
   "source": [
    "mask = y != 0\n",
    "y_masked = y[mask]\n",
    "x_masked = x[mask]\n",
    "y_masked = np.log(y_masked)"
   ]
  },
  {
   "cell_type": "code",
   "execution_count": 133,
   "metadata": {},
   "outputs": [
    {
     "name": "stdout",
     "output_type": "stream",
     "text": [
      "Estimated coefficients: [-1.43856132 13.63752354]\n"
     ]
    },
    {
     "name": "stderr",
     "output_type": "stream",
     "text": [
      "C:\\Users\\User\\Anaconda3\\lib\\site-packages\\ipykernel_launcher.py:2: FutureWarning: `rcond` parameter will change to the default of machine precision times ``max(M, N)`` where M and N are the input matrix dimensions.\n",
      "To use the future default and silence this warning we advise to pass `rcond=None`, to keep using the old, explicitly pass `rcond=-1`.\n",
      "  \n"
     ]
    },
    {
     "data": {
      "image/png": "[encoded data removed]",
      "text/plain": [
       "<Figure size 432x288 with 1 Axes>"
      ]
     },
     "metadata": {},
     "output_type": "display_data"
    }
   ],
   "source": [
    "# estimate the coefficients\n",
    "beta = np.linalg.lstsq(x_masked, y_masked)[0]\n",
    "print('Estimated coefficients:', beta)\n",
    "beta = np.reshape(beta,(-1,1))\n",
    "\n",
    "# compute new predictions\n",
    "predictions = dot(x_masked,beta) \n",
    "\n",
    "ax = sns.regplot(x=x_masked[:,1], y=y_masked, fit_reg=False, scatter_kws={'alpha':0.5})\n",
    "ax.set(xlabel='Bat Average', \n",
    "       ylabel='Log of Home runs',\n",
    "       title='Linear Regression Relation bt. X & Log(Y)');\n",
    "plt.plot(x_masked[:,1], predictions) # overlay a line plot over a scatter plot \n",
    "plt.show()"
   ]
  },
  {
   "cell_type": "code",
   "execution_count": 134,
   "metadata": {},
   "outputs": [
    {
     "name": "stdout",
     "output_type": "stream",
     "text": [
      "SStotal: 177.7023\n",
      "SSreg: 38.8956\n",
      "SSres: 138.8067\n",
      "Coefficient of Determinacy: 0.22\n"
     ]
    }
   ],
   "source": [
    "# SStotal\n",
    "sstotal = ss_total(y_masked)\n",
    "\n",
    "# SSReg\n",
    "ssreg = ss_reg(predictions, y_masked)\n",
    "\n",
    "# SSRes\n",
    "ssres = ss_res(predictions, y_masked)\n",
    "\n",
    "### R^2\n",
    "rsq = 1 - (ssres / sstotal)\n",
    "\n",
    "print('SStotal:', round(sstotal,4))\n",
    "print('SSreg:', round(ssreg,4))\n",
    "print('SSres:', round(ssres,4))\n",
    "print('Coefficient of Determinacy:', np.round(rsq,2))"
   ]
  },
  {
   "cell_type": "markdown",
   "metadata": {},
   "source": [
    "### Statistical inference"
   ]
  },
  {
   "cell_type": "markdown",
   "metadata": {},
   "source": [
    "The linear system solver from the Numpy library computed the coefficients for the linear system. Namely"
   ]
  },
  {
   "cell_type": "code",
   "execution_count": 135,
   "metadata": {},
   "outputs": [
    {
     "name": "stdout",
     "output_type": "stream",
     "text": [
      "[[-1.43856132]\n",
      " [13.63752354]]\n"
     ]
    }
   ],
   "source": [
    "print(beta)"
   ]
  },
  {
   "cell_type": "markdown",
   "metadata": {},
   "source": [
    "We can also look at the ranges of our independent variable to understand a little bit more about the domain of our fitted model."
   ]
  },
  {
   "cell_type": "code",
   "execution_count": 136,
   "metadata": {},
   "outputs": [
    {
     "data": {
      "text/plain": [
       "(0.163, 0.349)"
      ]
     },
     "execution_count": 136,
     "metadata": {},
     "output_type": "execute_result"
    }
   ],
   "source": [
    "np.min(x[:,1]), np.max(x[:,1])"
   ]
  },
  {
   "cell_type": "markdown",
   "metadata": {},
   "source": [
    "First, we should be wary in interpreting our model outside the domain of our independent variables, i.e., outside of the interval range stated above.  \n",
    "\n",
    "Second, in this analysis, it is not wise to interpret the case when the batting average equals zero, not only it is out of the variable's domain, it just dosen't make a lot of sense in general."
   ]
  },
  {
   "cell_type": "markdown",
   "metadata": {},
   "source": [
    "We can interpret our model by stating that we expect a logarithm growth in Home Runs of $(-1.43856132 + 13.63752354 \\cdot BattingAverage)$ for each unit increase in Batting Average. Likewise, we could state that we expect a growth in Home Runs of $(e^{-1.43856132 + 13.63752354 \\cdot BattingAverage})$ for each unit increase in Batting Average.  \n",
    "\n",
    "Plotting the last expression:"
   ]
  },
  {
   "cell_type": "code",
   "execution_count": 137,
   "metadata": {},
   "outputs": [],
   "source": [
    "# compute new predictions\n",
    "predictions = np.exp(dot(x,beta)) "
   ]
  },
  {
   "cell_type": "markdown",
   "metadata": {},
   "source": [
    "#### Plotting details\n",
    "Remember that the instruction *plot* plots a line between each consecutive point that you pass on. If your data is a straight line, then the order of the data that you pass onto *plot* does not matter, but if is not a straight line/function as in the exponential case, then we need to order the data first by the domain. This is ok for continuous functions."
   ]
  },
  {
   "cell_type": "code",
   "execution_count": 138,
   "metadata": {},
   "outputs": [],
   "source": [
    "# order the data first\n",
    "temp = np.c_[x[:,1], predictions]\n",
    "# sort by first column\n",
    "temp = temp[temp[:,0].argsort()] "
   ]
  },
  {
   "cell_type": "code",
   "execution_count": 139,
   "metadata": {},
   "outputs": [
    {
     "data": {
      "image/png": "[encoded data removed]",
      "text/plain": [
       "<Figure size 432x288 with 1 Axes>"
      ]
     },
     "metadata": {},
     "output_type": "display_data"
    }
   ],
   "source": [
    "ax = sns.regplot(x=x[:,1], y=y, fit_reg=False, scatter_kws={'alpha':0.5})\n",
    "ax.set(xlabel='Bat Average', \n",
    "       ylabel='Home runs',\n",
    "       title='Linear Regression bt. X & Log(Y)');\n",
    "\n",
    "# Remeber that the instruction plot \n",
    "plt.plot(temp[:,0], temp[:,1]) # overlay a line plot over a scatter plot \n",
    "plt.show()"
   ]
  },
  {
   "cell_type": "markdown",
   "metadata": {},
   "source": [
    "When we are using more expressive/parsimonious machine learning algorithms, such as linear regression, we do so with the expectation of being capable of obtaining more information about the model fit.  "
   ]
  },
  {
   "cell_type": "markdown",
   "metadata": {},
   "source": [
    "Can we expect for this model to hold for a new collected sample from the same population? What is the degree of uncertainty in our model's parameters/coefficients ?  \n",
    "The good thing about linear regression is that if we validate certain conditions we can infer a degree of uncertainty about our model parameters and see how likely our point estimate varies from the population parameter."
   ]
  },
  {
   "cell_type": "code",
   "execution_count": 146,
   "metadata": {},
   "outputs": [],
   "source": [
    "##### DON'T RUN THIS CELL BLOCK ######"
   ]
  },
  {
   "cell_type": "markdown",
   "metadata": {},
   "source": [
    "**Exercise** - Complete the code block below. Your output should match the above."
   ]
  },
  {
   "cell_type": "code",
   "execution_count": 144,
   "metadata": {},
   "outputs": [
    {
     "name": "stderr",
     "output_type": "stream",
     "text": [
      "C:\\Users\\User\\Anaconda3\\lib\\site-packages\\scipy\\stats\\stats.py:1713: FutureWarning: Using a non-tuple sequence for multidimensional indexing is deprecated; use `arr[tuple(seq)]` instead of `arr[seq]`. In the future this will be interpreted as an array index, `arr[np.array(seq)]`, which will result either in an error or a different result.\n",
      "  return np.add.reduce(sorted[indexer] * weights, axis=axis) / sumval\n"
     ]
    },
    {
     "data": {
      "image/png": "[encoded data removed]",
      "text/plain": [
       "<Figure size 1152x432 with 2 Axes>"
      ]
     },
     "metadata": {},
     "output_type": "display_data"
    }
   ],
   "source": [
    "fig, axs = plt.subplots(ncols=2, # Set the number of columns to split the figure in\n",
    "                        figsize=(16, 6)) # size of the whole figure\n",
    "\n",
    "# re-computing our model values\n",
    "predictions = dot(x_masked,beta)\n",
    "residuals = y_masked - predictions[:,0]\n",
    "degrees_of_freedom = len(x_masked) - x.shape[1]\n",
    "\n",
    "sm.qqplot(residuals, \n",
    "          stats.t,\n",
    "          distargs=(degrees_of_freedom,), \n",
    "          line='q', \n",
    "          ax=axs[0])\n",
    "axs[0].set_title(label = 'Q-Q plot')\n",
    "axs[0].set_xlim(-3.5,3.5)\n",
    "\n",
    "\n",
    "residuals_standard_error = np.std(residuals)\n",
    "mean_independent_variable = np.mean(x_masked[:, 1])\n",
    "\n",
    "pom1 = 0\n",
    "for i in x_masked[:,1]:\n",
    "    pom1 += (i - mean_independent_variable)**2\n",
    "    \n",
    "leverages = np.array([(1/len(y_masked) + (i - mean_independent_variable)**2 / pom1) for i in x_masked[:,1]])\n",
    "sid = residuals_standard_error * np.sqrt(np.full(leverages.shape, 1) - leverages)\n",
    "standardized_rediduals = residuals / sid\n",
    "\n",
    "sns.regplot(x=predictions[:,0], \n",
    "            y=standardized_rediduals, \n",
    "            ax=axs[1],\n",
    "            lowess=True, \n",
    "            scatter_kws={'alpha':0.3}, \n",
    "            line_kws={\"color\":\"r\",\"alpha\":0.4,\"lw\":2})\n",
    "plt.plot(np.arange(len(standardized_rediduals)), [0]*len(standardized_rediduals), 'r-')\n",
    "axs[1].set_ylim(-3.5,3.5)\n",
    "axs[1].set_xlim(-3.5,5)\n",
    "axs[1].set(ylabel='Standardized Residuals', \n",
    "           xlabel='Fitted values');\n",
    "axs[1].set_title(label = 'Standardized Residuals vs Fitted values');"
   ]
  },
  {
   "cell_type": "markdown",
   "metadata": {},
   "source": [
    "The assumptions for inference on linear regression models "
   ]
  },
  {
   "cell_type": "markdown",
   "metadata": {},
   "source": [
    "1. Zero Mean Assumption  \n",
    "    $E(\\epsilon |X) = 0$, in the second figure we can check that the mean of residuals along the domain falls relatively on a straight line, as shown by over positioning of the lowess curve (applied to the data) and the horizontal line at zero.  \n",
    "2. Constant Variance Assumption  \n",
    "    Checking the second figure, the constant variance assumption in our model is slightly violated. A good example is presented below.  \n",
    "    <img src='https://i.stack.imgur.com/Cc2x4.png' height=\"400\" width=\"400\">  \n",
    "    Source:https://stats.stackexchange.com/q/52092\n",
    "3. Independence Assumption  \n",
    "    In the second figure, the points are more or less symmetrically distributed around the horizontal line, meaning the model does not systematically underpredicts or overpredicts when the independent variable has a particular configuration.  \n",
    "4. Normality Assumption  \n",
    "    The first plot shows us that there is a slight S shape, more pronounced at higher values. "
   ]
  },
  {
   "cell_type": "markdown",
   "metadata": {},
   "source": [
    "Having assumed that the necessary assumptions for inference hold in the fitted model, it is necessary to calculate the uncertainty associated with the model's estimated coefficients."
   ]
  },
  {
   "cell_type": "markdown",
   "metadata": {},
   "source": [
    "$\\left|\n",
    "\\begin{array}{l}\n",
    "\\mathbf{y} = \\mathbf{X} \\mathbf{\\beta} + \\mathbf{\\epsilon} \\\\\n",
    " \\mathbf{\\epsilon} \\sim N(0, \\sigma^2 \\mathbf{I}),\n",
    "\\end{array}\n",
    "\\right.$\n",
    "\n",
    "$\\hat{\\mathbf{\\beta}} = (\\mathbf{X}^{\\prime} \\mathbf{X})^{-1} \\mathbf{X}^{\\prime} \\mathbf{y}$\n",
    "\n",
    "$E(\\hat{\\mathbf{\\beta}}|\\mathbf{X}) = E((\\mathbf{X}^{\\prime} \\mathbf{X})^{-1} \\mathbf{X}^{\\prime} (\\mathbf{X}\\mathbf{\\beta}+\\mathbf{\\epsilon})|\\mathbf{X}) = \\mathbf{\\beta} + ((\\mathbf{X}^{\\prime} \\mathbf{X})^{-1} \\mathbf{X}^{\\prime})E(\\mathbf{\\epsilon}|\\mathbf{X}) = \\mathbf{\\beta}$\n",
    "\n",
    "$\\textrm{Var}(\\hat{\\mathbf{\\beta}}) = E(\\hat{\\mathbf{\\beta}}-E(\\hat{\\mathbf{\\beta}}|\\mathbf{X}))^2=\\textrm{Var}((\\mathbf{X}^{\\prime} \\mathbf{X})^{-1} \\mathbf{X}^{\\prime} \\mathbf{\\epsilon})\n",
    "=(\\mathbf{X}^{\\prime} \\mathbf{X})^{-1} \\mathbf{X}^{\\prime}\n",
    " \\;\\sigma^2 \\mathbf{I} \\; \\mathbf{X}  (\\mathbf{X}^{\\prime} \\mathbf{X})^{-1}\n",
    "= \\sigma^2  (\\mathbf{X}^{\\prime} \\mathbf{X})^{-1}$"
   ]
  },
  {
   "cell_type": "markdown",
   "metadata": {},
   "source": [
    "You should compute the coefficients standard errors."
   ]
  },
  {
   "cell_type": "markdown",
   "metadata": {},
   "source": [
    "**Exercise** - Complete the code block below."
   ]
  },
  {
   "cell_type": "code",
   "execution_count": 192,
   "metadata": {},
   "outputs": [
    {
     "name": "stdout",
     "output_type": "stream",
     "text": [
      "Coefficients' Standard Errors: [0.47752281 1.82626655]\n"
     ]
    }
   ],
   "source": [
    "sigma_degrees_of_freedom = len(x_masked) - x_masked.shape[1]\n",
    "see = sum(residuals ** 2) / sigma_degrees_of_freedom\n",
    "sigma_sqr = np.std(y_masked)\n",
    "\n",
    "variance_covmatrix = np.linalg.inv(x_masked.T.dot(x_masked))\n",
    "coeff_stde = see * variance_covmatrix\n",
    "coeff_stde = np.sqrt(coeff_stde[coeff_stde > 0])\n",
    "\n",
    "print('Coefficients\\' Standard Errors:',coeff_stde)"
   ]
  },
  {
   "cell_type": "markdown",
   "metadata": {},
   "source": [
    "**R:** This should be your output."
   ]
  },
  {
   "cell_type": "markdown",
   "metadata": {},
   "source": [
    "```\n",
    "Coefficients' Standard Errors: [0.47752281 1.82626655]\n",
    "```"
   ]
  },
  {
   "cell_type": "markdown",
   "metadata": {},
   "source": [
    "**Exercise** - Complete the code block below."
   ]
  },
  {
   "cell_type": "code",
   "execution_count": 188,
   "metadata": {},
   "outputs": [
    {
     "name": "stdout",
     "output_type": "stream",
     "text": [
      "Test statistc for coefficient estimate  0 : [-3.01254993] | P-value: [0.00292529]\n",
      "Test statistc for coefficient estimate  1 : [7.46743325] | P-value: [0.]\n"
     ]
    }
   ],
   "source": [
    "expected_value = 0.0\n",
    "    \n",
    "# For each coefficient\n",
    "for i in range(len(beta)):    \n",
    "    ttest = beta[i] / coeff_stde[i]\n",
    "\n",
    "    #Degrees of freedom\n",
    "    df = x_masked.shape[0] - (i+1)\n",
    "    # https://stats.stackexchange.com/a/140395\n",
    "    \n",
    "    pval = stats.t.sf(np.abs(ttest), df)*2  # two-sided pvalue = Prob(abs(t)>tt)\n",
    "    # https://docs.scipy.org/doc/scipy/reference/tutorial/stats.html#t-test-and-ks-test\n",
    "\n",
    "\n",
    "    print('Test statistc for coefficient estimate ',i,':',ttest,'| P-value:', np.round(pval,8))"
   ]
  },
  {
   "cell_type": "markdown",
   "metadata": {},
   "source": [
    "**R:** This should be your output."
   ]
  },
  {
   "cell_type": "markdown",
   "metadata": {},
   "source": [
    "```\n",
    "Test statistc for coefficient estimate  0 : [-3.01254993] | P-value: [0.00292529]\n",
    "Test statistc for coefficient estimate  1 : [7.46743325] | P-value: [0.]\n",
    "```"
   ]
  },
  {
   "cell_type": "markdown",
   "metadata": {},
   "source": [
    "It remains to calculate the confidence intervals. Next, let's consider a 95% confidence interval."
   ]
  },
  {
   "cell_type": "markdown",
   "metadata": {},
   "source": [
    "**Exercise** - Complete the code block below."
   ]
  },
  {
   "cell_type": "code",
   "execution_count": 242,
   "metadata": {},
   "outputs": [
    {
     "name": "stdout",
     "output_type": "stream",
     "text": [
      "[array([-2.22769009]), array([-0.64943255])]\n",
      "[array([10.6195327]), array([16.65551438])]\n"
     ]
    }
   ],
   "source": [
    "df = len(x_masked) - x_masked.shape[1]\n",
    "alpha = 0.05\n",
    "one_minus_alpha = 1 - alpha\n",
    "t_student_values = stats.t.ppf( [alpha,one_minus_alpha], df)\n",
    "stde = see\n",
    "#print(beta + t_student_values * coeff_stde)\n",
    "print([beta[0] + t_student_values[0] * coeff_stde[0], beta[0] - t_student_values[0] * coeff_stde[0]])\n",
    "print([beta[1] - t_student_values[1] * coeff_stde[1], beta[1] + t_student_values[1] * coeff_stde[1]]) "
   ]
  },
  {
   "cell_type": "markdown",
   "metadata": {},
   "source": [
    "**R:** This should be your output."
   ]
  },
  {
   "cell_type": "markdown",
   "metadata": {},
   "source": [
    "```\n",
    "array([[-2.38021556, -0.49690708],\n",
    "       [10.03620527, 17.23884181]])\n",
    "```"
   ]
  },
  {
   "cell_type": "markdown",
   "metadata": {},
   "source": [
    "We can also look for the correlation coefficient between the feature Batting Average, independent variable, and the target Home Runs, dependent variable."
   ]
  },
  {
   "cell_type": "code",
   "execution_count": 64,
   "metadata": {},
   "outputs": [
    {
     "name": "stdout",
     "output_type": "stream",
     "text": [
      "Correlation: 0.4678466755394911\n"
     ]
    }
   ],
   "source": [
    "print('Correlation:',np.corrcoef(y_masked,x_masked[:,1])[0,1])"
   ]
  },
  {
   "cell_type": "markdown",
   "metadata": {},
   "source": [
    "Check that, in the simple linear regression model,i.e. onde independent variable, the $R^2$ value is equal to the square fo the correlation between the independent variable and the dependent variable ."
   ]
  },
  {
   "cell_type": "code",
   "execution_count": 65,
   "metadata": {},
   "outputs": [
    {
     "name": "stdout",
     "output_type": "stream",
     "text": [
      "Correlation: 0.22\n"
     ]
    }
   ],
   "source": [
    "print('Correlation:',round((np.corrcoef(y_masked,x_masked[:,1])[0,1])**2,2))"
   ]
  },
  {
   "cell_type": "markdown",
   "metadata": {},
   "source": [
    "Correlation does not imply causality.  \n",
    "Always interpret coefficients of correlation and determination cautiously.  \n",
    "The coefficients only quantify how much variance in a dependent variable a fitted model removes.  "
   ]
  }
 ],
 "metadata": {
  "kernelspec": {
   "display_name": "Python 3",
   "language": "python",
   "name": "python3"
  },
  "language_info": {
   "codemirror_mode": {
    "name": "ipython",
    "version": 3
   },
   "file_extension": ".py",
   "mimetype": "text/x-python",
   "name": "python",
   "nbconvert_exporter": "python",
   "pygments_lexer": "ipython3",
   "version": "3.7.0"
  }
 },
 "nbformat": 4,
 "nbformat_minor": 2
}
