{
 "cells": [
  {
   "cell_type": "markdown",
   "metadata": {},
   "source": [
    "# Project on Data Analysis and Mining 2018/2019\n",
    "## Travel Reviews Data Set"
   ]
  },
  {
   "cell_type": "markdown",
   "metadata": {},
   "source": [
    "Mitchell Galvao & Urszula Walińska"
   ]
  },
  {
   "cell_type": "markdown",
   "metadata": {},
   "source": [
    "__Abstract__: This data set is populated by crawling TripAdvisor.com. Reviews on destinations in 10 categories mentioned across East Asia. Each traveler rating is mapped as Excellent(4), Very Good(3), Average(2), Poor(1), and Terrible(0) and average rating is used against each category per user."
   ]
  },
  {
   "cell_type": "markdown",
   "metadata": {},
   "source": [
    "- Data Set Characteristics: Multivariate, Text\n",
    "- Number of Instances: 980\n",
    "- Attribute Characteristics: Real\n",
    "- Number of Attributes: 11 (excluding the id of user that provided feedback -> 10)\n",
    "- Date Donated: 2018-12-19\n",
    "- Associated Tasks: Classification, Clustering"
   ]
  },
  {
   "cell_type": "markdown",
   "metadata": {},
   "source": [
    "__Attribute Information__:\n",
    "- Attribute 1: Unique user id \n",
    "- Attribute 2: Average user feedback on art galleries \n",
    "- Attribute 3: Average user feedback on dance clubs \n",
    "- Attribute 4: Average user feedback on juice bars \n",
    "- Attribute 5: Average user feedback on restaurants \n",
    "- Attribute 6: Average user feedback on museums \n",
    "- Attribute 7: Average user feedback on resorts \n",
    "- Attribute 8: Average user feedback on parks/picnic spots \n",
    "- Attribute 9: Average user feedback on beaches \n",
    "- Attribute 10: Average user feedback on theaters \n",
    "- Attribute 11: Average user feedback on religious institutions"
   ]
  },
  {
   "cell_type": "markdown",
   "metadata": {},
   "source": [
    "The data set we chose is connected with our interests. We hope that analysing it will enable us to judge which destination in Eastern Asia is worth visiting."
   ]
  }
 ],
 "metadata": {
  "kernelspec": {
   "display_name": "Python 3",
   "language": "python",
   "name": "python3"
  },
  "language_info": {
   "codemirror_mode": {
    "name": "ipython",
    "version": 3
   },
   "file_extension": ".py",
   "mimetype": "text/x-python",
   "name": "python",
   "nbconvert_exporter": "python",
   "pygments_lexer": "ipython3",
   "version": "3.7.0"
  }
 },
 "nbformat": 4,
 "nbformat_minor": 2
}
