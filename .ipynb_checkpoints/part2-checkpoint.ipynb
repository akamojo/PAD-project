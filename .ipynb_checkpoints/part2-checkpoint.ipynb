{
 "cells": [
  {
   "cell_type": "code",
   "execution_count": 1,
   "metadata": {},
   "outputs": [],
   "source": [
    "file = open(\"en1.8m.txt\", \"r\", encoding=\"utf8\")\n",
    "whole_text = file.read()"
   ]
  },
  {
   "cell_type": "code",
   "execution_count": 2,
   "metadata": {},
   "outputs": [],
   "source": [
    "text = whole_text.split('\\n')"
   ]
  },
  {
   "cell_type": "code",
   "execution_count": 3,
   "metadata": {},
   "outputs": [
    {
     "name": "stdout",
     "output_type": "stream",
     "text": [
      "The9rain9in9Spain\n"
     ]
    }
   ],
   "source": [
    "import re\n",
    "\n",
    "#Replace all white-space characters with the digit \"9\":\n",
    "\n",
    "str = \"The rain in Spain\"\n",
    "x = re.sub(\"\\s\", \"9\", str)\n",
    "print(x)\n"
   ]
  },
  {
   "cell_type": "code",
   "execution_count": 4,
   "metadata": {},
   "outputs": [
    {
     "name": "stdout",
     "output_type": "stream",
     "text": [
      "0 a\n",
      "2 b\n",
      "4 c\n",
      "6 d\n"
     ]
    }
   ],
   "source": [
    "p = re.compile(\"[a-z]\")\n",
    "for m in p.finditer('a1b2c3d4'):\n",
    "    print(m.start(), m.group())\n",
    "    #s[:4] + '-' + s[4:]\n",
    "    "
   ]
  },
  {
   "cell_type": "code",
   "execution_count": 4,
   "metadata": {},
   "outputs": [
    {
     "ename": "NameError",
     "evalue": "name 'test' is not defined",
     "output_type": "error",
     "traceback": [
      "\u001b[1;31m---------------------------------------------------------------------------\u001b[0m",
      "\u001b[1;31mNameError\u001b[0m                                 Traceback (most recent call last)",
      "\u001b[1;32m<ipython-input-4-19ab2c020b92>\u001b[0m in \u001b[0;36m<module>\u001b[1;34m()\u001b[0m\n\u001b[0;32m     10\u001b[0m     \u001b[1;32mreturn\u001b[0m \u001b[0mtext\u001b[0m\u001b[1;33m\u001b[0m\u001b[0m\n\u001b[0;32m     11\u001b[0m \u001b[1;33m\u001b[0m\u001b[0m\n\u001b[1;32m---> 12\u001b[1;33m \u001b[0mprint\u001b[0m\u001b[1;33m(\u001b[0m\u001b[0mappend_space\u001b[0m\u001b[1;33m(\u001b[0m\u001b[0mtest\u001b[0m\u001b[1;33m,\u001b[0m \u001b[1;34m\",.\"\u001b[0m\u001b[1;33m)\u001b[0m\u001b[1;33m)\u001b[0m\u001b[1;33m\u001b[0m\u001b[0m\n\u001b[0m",
      "\u001b[1;31mNameError\u001b[0m: name 'test' is not defined"
     ]
    }
   ],
   "source": [
    "def append_space(text, pattern, left=True):\n",
    "    p = re.compile(\"[\" + pattern + \"]\")\n",
    "    \n",
    "    for i, m in enumerate(p.finditer(text)):\n",
    "        if left:\n",
    "            text = text[: m.start() + i] + \" \" + text[m.start() + i :]\n",
    "        else:\n",
    "            text = text[: m.start() + 1 + i] + \" \" + text[m.start() + 1 + i :]\n",
    "            \n",
    "    return text\n",
    "\n",
    "print(append_space(test, \",.\"))"
   ]
  },
  {
   "cell_type": "code",
   "execution_count": 7,
   "metadata": {},
   "outputs": [
    {
     "name": "stdout",
     "output_type": "stream",
     "text": [
      "Greek Christian scribes played a crucial role in the preservation of Aristotle by copying all the extant Greek language manuscripts of the corpus. The first Greek Christians to comment extensively on Aristotle were John Philoponus, Elias, and David in the sixth century, and Stephen of Alexandria in the early seventh century. John Philoponus stands out for having attempted a fundamental critique of Aristotle's views on the eternity of the world, movement, and other elements of Aristotelian thought. After a hiatus of several centuries, formal commentary by Eustratius and Michael of Ephesus reappears in the late eleventh and early twelfth centuries, apparently sponsored by Anna Comnena.\n",
      "Greek Christian scribes played a crucial role in the preservation of Aristotle by copying all the extant Greek language manuscripts of the corpus. The first Greek Christians to comment extensively on Aristotle were John Philoponus, Elias, and David in the sixth century, and Stephen of Alexandria in the early seventh century. John Philoponus stands out for having attempted a fundamental critique of Aristotle' s views on the eternity of the world, movement, and other elements of Aristotelian thought. After a hiatus of several centuries, formal commentary by Eustratius and Michael of Ephesus reappears in the late eleventh and early twelfth centuries, apparently sponsored by Anna Comnena.\n"
     ]
    }
   ],
   "source": [
    "test = text[0]\n",
    "print(test)\n",
    "p = re.compile(\"[']\")\n",
    "\n",
    "for i, m in enumerate(p.finditer(test)):\n",
    "    test = test[: m.start() + 1 + i] + \" \" + test[m.start() + 1 + i :]\n",
    "    \n",
    "print(test)"
   ]
  },
  {
   "cell_type": "code",
   "execution_count": 12,
   "metadata": {},
   "outputs": [],
   "source": [
    "file = open(\"en1.8m.txt\", \"r\", encoding=\"utf8\")\n",
    "whole_text = file.read()\n",
    "text = whole_text.split('\\n')\n",
    "\n",
    "dictionary = dict()\n",
    "words_number = 0\n",
    "\n",
    "for i in range(len(text)):\n",
    "    text[i] = append_space(text[i], \",\\])>\")\n",
    "    text[i] = append_space(text[i], \".\")\n",
    "    text[i] = append_space(text[i], \"\\[(<\", False)\n",
    "    \n",
    "    for w in text[i].split():\n",
    "        if w.isalpha():\n",
    "            words_number += 1\n",
    "            try:\n",
    "                dictionary[w.lower()] += 1\n",
    "            except KeyError:\n",
    "                dictionary[w.lower()] = 1"
   ]
  },
  {
   "cell_type": "code",
   "execution_count": 13,
   "metadata": {},
   "outputs": [
    {
     "name": "stdout",
     "output_type": "stream",
     "text": [
      "1675443\n",
      "('the', 130038) ('of', 62755) ('and', 53328) ('in', 52196) ('a', 37979) ('to', 37104) ('was', 22099) ('is', 18935) ('for', 15281) ('on', 14892) ('as', 14818) ('with', 12908) ('by', 12905) ('he', 11489) ('that', 10390) ('at', 9930) ('from', 9566) ('his', 9316) ('it', 8532) ('an', 7113) ('were', 6047) ('are', 5860) ('which', 5561) ('doc', 5454) ('this', 4854) ('also', 4815) ('be', 4729) ('or', 4641) ('has', 4512) ('had', 4280) ('first', 4058) ('their', 3959) ('one', 3632) ('its', 3519) ('but', 3491) ('after', 3461) ('new', 3388) ('they', 3383) ('not', 3381) ('who', 3295) ('have', 3107) ('two', 2973) ('her', 2966) ('she', 2799) ('been', 2741) ('other', 2693) ('when', 2508) ('during', 2390) ('there', 2349) ('into', 2312) ('all', 2155) ('time', 2121) ('more', 2081) ('may', 1998) ('only', 1964) ('school', 1962) ('years', 1937) ('most', 1917) ('would', 1835) ('over', 1795) ('some', 1733) ('national', 1699) ('such', 1696) ('out', 1677) ('between', 1672) ('about', 1671) ('up', 1665) ('where', 1663) ('later', 1657) ('him', 1657) ('used', 1653) ('world', 1602) ('then', 1599) ('city', 1588) ('many', 1566) ('can', 1566) ('three', 1563) ('state', 1554) ('while', 1552) ('made', 1551) ('year', 1519) ('known', 1511) ('part', 1480) ('under', 1479) ('united', 1457) ('university', 1446) ('these', 1438) ('than', 1417) ('no', 1400) ('became', 1389) ('being', 1387) ('american', 1384) ('second', 1376) ('states', 1361) ('before', 1356) ('both', 1352) ('team', 1352) ('season', 1350) ('film', 1337) ('through', 1329) ('war', 1315) "
     ]
    }
   ],
   "source": [
    "it = 0\n",
    "print(words_number)\n",
    "\n",
    "for i in sorted(dictionary, key=dictionary.get, reverse=True): \n",
    "    if it > 100:\n",
    "        break\n",
    "\n",
    "    print((i, dictionary[i]), end =\" \")\n",
    "    it += 1"
   ]
  },
  {
   "cell_type": "code",
   "execution_count": 7,
   "metadata": {},
   "outputs": [],
   "source": [
    "test = \"Greek Christian scribes played a crucial role in the preservation of Aristotle by copying all the extant Greek language manuscripts of the corpus. The first Greek Christians to comment extensively on Aristotle were John Philoponus, Elias, and David in the sixth century, and Stephen of Alexandria in the early seventh century. John Philoponus stands out for having attempted a fundamental critique of Aristotle's views on the eternity of the world, movement, and other elements of Aristotelian thought. After a hiatus of several centuries, formal commentary by Eustratius and Michael of Ephesus reappears in the late eleventh and early twelfth centuries, apparently sponsored by Anna Comnena.\""
   ]
  },
  {
   "cell_type": "code",
   "execution_count": 8,
   "metadata": {},
   "outputs": [],
   "source": [
    "\n",
    "\n",
    "test = append_space(test, \",\\])>\")\n",
    "test = append_space(test, \".\")\n",
    "test = append_space(test, \"\\[(<\", False)\n"
   ]
  },
  {
   "cell_type": "code",
   "execution_count": 14,
   "metadata": {},
   "outputs": [],
   "source": [
    "def build_n_gram(test_arr, n_gram):\n",
    "    cur_gram = []\n",
    "    count_gram = 0\n",
    "    grams = dict()\n",
    "\n",
    "    for i in range(len(test_arr)):\n",
    "        if not test_arr[i].isalpha():\n",
    "            continue\n",
    "\n",
    "        cur_gram = [test_arr[i]]\n",
    "\n",
    "        for j in range(i + 1, i + n_gram):\n",
    "            if not test_arr[j].isalpha():\n",
    "                break\n",
    "\n",
    "            cur_gram.append(test_arr[j])\n",
    "\n",
    "        if len(cur_gram) == n_gram:\n",
    "            try:\n",
    "                grams[\" \".join(cur_gram)] += 1\n",
    "            except KeyError:\n",
    "                grams[\" \".join(cur_gram)] = 1\n",
    "\n",
    "    #print(number_grams, len(grams))\n",
    "    \n",
    "    return grams"
   ]
  },
  {
   "cell_type": "code",
   "execution_count": 15,
   "metadata": {},
   "outputs": [],
   "source": [
    "big_dict = []\n",
    "\n",
    "for n in range(3):\n",
    "    big_dict.append(build_n_gram(test.split(), n + 1))"
   ]
  },
  {
   "cell_type": "code",
   "execution_count": 18,
   "metadata": {},
   "outputs": [
    {
     "data": {
      "text/plain": [
       "{'Greek Christian': 1,\n",
       " 'Christian scribes': 1,\n",
       " 'scribes played': 1,\n",
       " 'played a': 1,\n",
       " 'a crucial': 1,\n",
       " 'crucial role': 1,\n",
       " 'role in': 1,\n",
       " 'in the': 4,\n",
       " 'the preservation': 1,\n",
       " 'preservation of': 1,\n",
       " 'of Aristotle': 1,\n",
       " 'Aristotle by': 1,\n",
       " 'by copying': 1,\n",
       " 'copying all': 1,\n",
       " 'all the': 1,\n",
       " 'the extant': 1,\n",
       " 'extant Greek': 1,\n",
       " 'Greek language': 1,\n",
       " 'language manuscripts': 1,\n",
       " 'manuscripts of': 1,\n",
       " 'of the': 2,\n",
       " 'the corpus': 1,\n",
       " 'The first': 1,\n",
       " 'first Greek': 1,\n",
       " 'Greek Christians': 1,\n",
       " 'Christians to': 1,\n",
       " 'to comment': 1,\n",
       " 'comment extensively': 1,\n",
       " 'extensively on': 1,\n",
       " 'on Aristotle': 1,\n",
       " 'Aristotle were': 1,\n",
       " 'were John': 1,\n",
       " 'John Philoponus': 2,\n",
       " 'and David': 1,\n",
       " 'David in': 1,\n",
       " 'the sixth': 1,\n",
       " 'sixth century': 1,\n",
       " 'and Stephen': 1,\n",
       " 'Stephen of': 1,\n",
       " 'of Alexandria': 1,\n",
       " 'Alexandria in': 1,\n",
       " 'the early': 1,\n",
       " 'early seventh': 1,\n",
       " 'seventh century': 1,\n",
       " 'Philoponus stands': 1,\n",
       " 'stands out': 1,\n",
       " 'out for': 1,\n",
       " 'for having': 1,\n",
       " 'having attempted': 1,\n",
       " 'attempted a': 1,\n",
       " 'a fundamental': 1,\n",
       " 'fundamental critique': 1,\n",
       " 'critique of': 1,\n",
       " 'views on': 1,\n",
       " 'on the': 1,\n",
       " 'the eternity': 1,\n",
       " 'eternity of': 1,\n",
       " 'the world': 1,\n",
       " 'and other': 1,\n",
       " 'other elements': 1,\n",
       " 'elements of': 1,\n",
       " 'of Aristotelian': 1,\n",
       " 'Aristotelian thought': 1,\n",
       " 'After a': 1,\n",
       " 'a hiatus': 1,\n",
       " 'hiatus of': 1,\n",
       " 'of several': 1,\n",
       " 'several centuries': 1,\n",
       " 'formal commentary': 1,\n",
       " 'commentary by': 1,\n",
       " 'by Eustratius': 1,\n",
       " 'Eustratius and': 1,\n",
       " 'and Michael': 1,\n",
       " 'Michael of': 1,\n",
       " 'of Ephesus': 1,\n",
       " 'Ephesus reappears': 1,\n",
       " 'reappears in': 1,\n",
       " 'the late': 1,\n",
       " 'late eleventh': 1,\n",
       " 'eleventh and': 1,\n",
       " 'and early': 1,\n",
       " 'early twelfth': 1,\n",
       " 'twelfth centuries': 1,\n",
       " 'apparently sponsored': 1,\n",
       " 'sponsored by': 1,\n",
       " 'by Anna': 1,\n",
       " 'Anna Comnena': 1}"
      ]
     },
     "execution_count": 18,
     "metadata": {},
     "output_type": "execute_result"
    }
   ],
   "source": [
    "big_dict[1]"
   ]
  },
  {
   "cell_type": "code",
   "execution_count": 11,
   "metadata": {},
   "outputs": [],
   "source": [
    "'''def SCP_f(words):\n",
    "    numerator = 1\n",
    "    probabilites = []\n",
    "    \n",
    "    for w in words:\n",
    "        probabilites.append(test_dict[w])\n",
    "        numerator *= probabilites[-1]\n",
    "    numerator = numerator ** 2\n",
    "    \n",
    "    F = 1 / (len(words) - 1)\n",
    "    denominator = 0\n",
    "    \n",
    "    for i in range(len(words)):\n",
    "        denominator += probabilites[i] * pro''';"
   ]
  },
  {
   "cell_type": "code",
   "execution_count": 12,
   "metadata": {},
   "outputs": [],
   "source": [
    "def SCP_f(words, big_dict):\n",
    "    words_arr = words.split()\n",
    "    \n",
    "    numerator = big_dict[len(words_arr) - 1][words] ** 2\n",
    "    F = 1 / (len(words_arr) - 1)\n",
    "    denominator = 0\n",
    "    \n",
    "    for i in range(len(words_arr) - 1):\n",
    "        left = words_arr[0:i+1]\n",
    "        right = words_arr[i+1:]\n",
    "        \n",
    "        #print(\" \".join(left) + \" + \" + \" \".join(right))\n",
    "        #print(big_dict[len(left) - 1][\" \".join(left)])\n",
    "        #print(big_dict[len(right) - 1][\" \".join(right)])\n",
    "        denominator += big_dict[len(left) - 1][\" \".join(left)] * big_dict[len(right) - 1][\" \".join(right)]\n",
    "        \n",
    "    F *= denominator\n",
    "    return numerator / F"
   ]
  },
  {
   "cell_type": "code",
   "execution_count": 22,
   "metadata": {},
   "outputs": [
    {
     "name": "stdout",
     "output_type": "stream",
     "text": [
      "1.0\n",
      "1.0\n"
     ]
    }
   ],
   "source": [
    "print(SCP_f('John Philoponus', big_dict))\n",
    "print(SCP_f('Anna Comnena', big_dict))"
   ]
  },
  {
   "cell_type": "code",
   "execution_count": 23,
   "metadata": {},
   "outputs": [],
   "source": [
    "def SCP_f_n(big_dict, n):\n",
    "    for s in big_dict[n - 1]:\n",
    "        print(s, SCP_f(s, big_dict))"
   ]
  },
  {
   "cell_type": "code",
   "execution_count": 24,
   "metadata": {},
   "outputs": [
    {
     "name": "stdout",
     "output_type": "stream",
     "text": [
      "\n",
      "\n",
      "2 grams:\n",
      "Greek Christian 0.3333333333333333\n",
      "Christian scribes 1.0\n",
      "scribes played 1.0\n",
      "played a 0.3333333333333333\n",
      "a crucial 0.3333333333333333\n",
      "crucial role 1.0\n",
      "role in 0.25\n",
      "in the 0.5\n",
      "the preservation 0.125\n",
      "preservation of 0.125\n",
      "of Aristotle 0.0625\n",
      "Aristotle by 0.16666666666666666\n",
      "by copying 0.3333333333333333\n",
      "copying all 1.0\n",
      "all the 0.125\n",
      "the extant 0.125\n",
      "extant Greek 0.3333333333333333\n",
      "Greek language 0.3333333333333333\n",
      "language manuscripts 1.0\n",
      "manuscripts of 0.125\n",
      "of the 0.0625\n",
      "the corpus 0.125\n",
      "The first 1.0\n",
      "first Greek 0.3333333333333333\n",
      "Greek Christians 0.3333333333333333\n",
      "Christians to 1.0\n",
      "to comment 1.0\n",
      "comment extensively 1.0\n",
      "extensively on 0.5\n",
      "on Aristotle 0.25\n",
      "Aristotle were 0.5\n",
      "were John 0.5\n",
      "John Philoponus 1.0\n",
      "and David 0.2\n",
      "David in 0.25\n",
      "the sixth 0.125\n",
      "sixth century 0.5\n",
      "and Stephen 0.2\n",
      "Stephen of 0.125\n",
      "of Alexandria 0.125\n",
      "Alexandria in 0.25\n",
      "the early 0.0625\n",
      "early seventh 0.5\n",
      "seventh century 0.5\n",
      "Philoponus stands 0.5\n",
      "stands out 1.0\n",
      "out for 1.0\n",
      "for having 1.0\n",
      "having attempted 1.0\n",
      "attempted a 0.3333333333333333\n",
      "a fundamental 0.3333333333333333\n",
      "fundamental critique 1.0\n",
      "critique of 0.125\n",
      "views on 0.5\n",
      "on the 0.0625\n",
      "the eternity 0.125\n",
      "eternity of 0.125\n",
      "the world 0.125\n",
      "and other 0.2\n",
      "other elements 1.0\n",
      "elements of 0.125\n",
      "of Aristotelian 0.125\n",
      "Aristotelian thought 1.0\n",
      "After a 0.3333333333333333\n",
      "a hiatus 0.3333333333333333\n",
      "hiatus of 0.125\n",
      "of several 0.125\n",
      "several centuries 0.5\n",
      "formal commentary 1.0\n",
      "commentary by 0.3333333333333333\n",
      "by Eustratius 0.3333333333333333\n",
      "Eustratius and 0.2\n",
      "and Michael 0.2\n",
      "Michael of 0.125\n",
      "of Ephesus 0.125\n",
      "Ephesus reappears 1.0\n",
      "reappears in 0.25\n",
      "the late 0.125\n",
      "late eleventh 1.0\n",
      "eleventh and 0.2\n",
      "and early 0.1\n",
      "early twelfth 0.5\n",
      "twelfth centuries 0.5\n",
      "apparently sponsored 1.0\n",
      "sponsored by 0.3333333333333333\n",
      "by Anna 0.3333333333333333\n",
      "Anna Comnena 1.0\n",
      "\n",
      "\n",
      "3 grams:\n",
      "Greek Christian scribes 0.5\n",
      "Christian scribes played 1.0\n",
      "scribes played a 0.5\n",
      "played a crucial 1.0\n",
      "a crucial role 0.5\n",
      "crucial role in 0.4\n",
      "role in the 0.16666666666666666\n",
      "in the preservation 0.25\n",
      "the preservation of 0.125\n",
      "preservation of Aristotle 0.6666666666666666\n",
      "of Aristotle by 0.18181818181818182\n",
      "Aristotle by copying 0.6666666666666666\n",
      "by copying all 0.5\n",
      "copying all the 0.2222222222222222\n",
      "all the extant 1.0\n",
      "the extant Greek 0.18181818181818182\n",
      "extant Greek language 1.0\n",
      "Greek language manuscripts 0.5\n",
      "language manuscripts of 0.2222222222222222\n",
      "manuscripts of the 0.2\n",
      "of the corpus 0.2\n",
      "The first Greek 0.5\n",
      "first Greek Christians 1.0\n",
      "Greek Christians to 0.5\n",
      "Christians to comment 1.0\n",
      "to comment extensively 1.0\n",
      "comment extensively on 0.6666666666666666\n",
      "extensively on Aristotle 0.6666666666666666\n",
      "on Aristotle were 0.6666666666666666\n",
      "Aristotle were John 0.5\n",
      "were John Philoponus 0.5\n",
      "and David in 0.2222222222222222\n",
      "David in the 0.16666666666666666\n",
      "in the sixth 0.25\n",
      "the sixth century 0.2\n",
      "and Stephen of 0.15384615384615385\n",
      "Stephen of Alexandria 1.0\n",
      "of Alexandria in 0.16666666666666666\n",
      "Alexandria in the 0.16666666666666666\n",
      "in the early 0.16666666666666666\n",
      "the early seventh 0.2222222222222222\n",
      "early seventh century 0.5\n",
      "John Philoponus stands 0.5\n",
      "Philoponus stands out 0.6666666666666666\n",
      "stands out for 1.0\n",
      "out for having 1.0\n",
      "for having attempted 1.0\n",
      "having attempted a 0.5\n",
      "attempted a fundamental 1.0\n",
      "a fundamental critique 0.5\n",
      "fundamental critique of 0.2222222222222222\n",
      "views on the 0.2222222222222222\n",
      "on the eternity 0.6666666666666666\n",
      "the eternity of 0.125\n",
      "eternity of the 0.2\n",
      "of the world 0.2\n",
      "and other elements 0.3333333333333333\n",
      "other elements of 0.2222222222222222\n",
      "elements of Aristotelian 1.0\n",
      "of Aristotelian thought 0.2222222222222222\n",
      "After a hiatus 1.0\n",
      "a hiatus of 0.18181818181818182\n",
      "hiatus of several 1.0\n",
      "of several centuries 0.2\n",
      "formal commentary by 0.5\n",
      "commentary by Eustratius 1.0\n",
      "by Eustratius and 0.25\n",
      "Eustratius and Michael 1.0\n",
      "and Michael of 0.15384615384615385\n",
      "Michael of Ephesus 1.0\n",
      "of Ephesus reappears 0.2222222222222222\n",
      "Ephesus reappears in 0.4\n",
      "reappears in the 0.16666666666666666\n",
      "in the late 0.25\n",
      "the late eleventh 0.2222222222222222\n",
      "late eleventh and 0.3333333333333333\n",
      "eleventh and early 0.6666666666666666\n",
      "and early twelfth 0.3333333333333333\n",
      "early twelfth centuries 0.5\n",
      "apparently sponsored by 0.5\n",
      "sponsored by Anna 1.0\n",
      "by Anna Comnena 0.5\n"
     ]
    }
   ],
   "source": [
    "for i in range(2, 4):\n",
    "    print(\"\\n\")\n",
    "    print(i, \"grams:\")\n",
    "    SCP_f_n(big_dict, i)"
   ]
  }
 ],
 "metadata": {
  "kernelspec": {
   "display_name": "Python 3",
   "language": "python",
   "name": "python3"
  },
  "language_info": {
   "codemirror_mode": {
    "name": "ipython",
    "version": 3
   },
   "file_extension": ".py",
   "mimetype": "text/x-python",
   "name": "python",
   "nbconvert_exporter": "python",
   "pygments_lexer": "ipython3",
   "version": "3.7.0"
  }
 },
 "nbformat": 4,
 "nbformat_minor": 2
}
