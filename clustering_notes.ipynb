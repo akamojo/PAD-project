{
 "cells": [
  {
   "cell_type": "markdown",
   "metadata": {},
   "source": [
    "//delete class attribute before clustering\n",
    "efficiency of algo, how many times we had to run it (with deterministic initialization)"
   ]
  },
  {
   "cell_type": "code",
   "execution_count": 12,
   "metadata": {},
   "outputs": [],
   "source": [
    "import numpy as np"
   ]
  },
  {
   "cell_type": "code",
   "execution_count": 13,
   "metadata": {},
   "outputs": [
    {
     "name": "stdout",
     "output_type": "stream",
     "text": [
      "List of coordinates of minimum value in Numpy array : \n",
      "0\n",
      "0\n",
      "2\n"
     ]
    }
   ],
   "source": [
    "# just eg\n",
    "# Create a 2D Numpy array from list of lists\n",
    "arr2D = np.array([[11, 12, 13],\n",
    "[14, 15, 16],\n",
    "[17, 15, 11],\n",
    "[12, 14, 15]])\n",
    "\n",
    "# Find index of minimum value from 2D numpy array\n",
    "print('List of coordinates of minimum value in Numpy array : ')\n",
    "# zip the 2 arrays to get the exact coordinates\n",
    "listOfCordinates = np.where(arr2D == np.amin(arr2D, axis=0))[0]\n",
    "# travese over the list of cordinates\n",
    "for cord in listOfCordinates:\n",
    "    print(cord)"
   ]
  },
  {
   "cell_type": "code",
   "execution_count": 14,
   "metadata": {},
   "outputs": [],
   "source": [
    "X = np.array([[2.0, 1.0], [1.0, 5.0], [3.0, 2.0]])\n",
    "cluster = [1, 2]"
   ]
  },
  {
   "cell_type": "code",
   "execution_count": 15,
   "metadata": {},
   "outputs": [
    {
     "name": "stdout",
     "output_type": "stream",
     "text": [
      "[2.  3.5]\n"
     ]
    }
   ],
   "source": [
    "# OK\n",
    "def center(X, cluster):\n",
    "    nn, mm = X.shape # this order? rows > cols?\n",
    "    ccc = []\n",
    "    for jj in range(mm):\n",
    "        zz = np.array(X[:, jj])\n",
    "        zc = zz[cluster]\n",
    "        ccc.append(np.mean(zc)) #, dtype=np.float32))\n",
    "    \n",
    "    return np.array(ccc)\n",
    "\n",
    "print(center(X, cluster))"
   ]
  },
  {
   "cell_type": "code",
   "execution_count": 16,
   "metadata": {},
   "outputs": [
    {
     "name": "stdout",
     "output_type": "stream",
     "text": [
      "[2, 4]\n",
      "[1.666666666666667, 2.666666666666667]\n",
      "[0.20138889 0.45138889 0.47222222]\n"
     ]
    }
   ],
   "source": [
    "# OK\n",
    "def dist(X, remains, range_in, a):\n",
    "    nn, mm = X.shape\n",
    "    rr = len(remains)\n",
    "    distan = np.zeros(rr)\n",
    "    \n",
    "    for jj in range(mm):\n",
    "        z = X[:, jj]\n",
    "        zz = z[remains]\n",
    "        y = zz - a[jj]\n",
    "        y = y / range_in[jj]\n",
    "        yy = np.multiply(y, y)\n",
    "        #yy = np.reshape(yy,(-1,1))\n",
    "        distan += yy\n",
    "        \n",
    "    return distan\n",
    "\n",
    "remains = np.array([*range(X.shape[0])])\n",
    "range_in = [2, 4]\n",
    "#me = []\n",
    "me = [1.666666666666667, 2.666666666666667]\n",
    "\n",
    "# for j in range(X.shape[1]):\n",
    "#     range_in.append(max(X[:, j]) - min(X[:, j]))\n",
    "#     me.append(np.mean(X[:, j]))\n",
    "\n",
    "print(range_in)\n",
    "print(me)\n",
    "print(dist(X, remains, range_in, me))"
   ]
  },
  {
   "cell_type": "code",
   "execution_count": 17,
   "metadata": {},
   "outputs": [
    {
     "name": "stdout",
     "output_type": "stream",
     "text": [
      "[0.20138889 0.45138889 0.47222222]\n"
     ]
    }
   ],
   "source": [
    "# rather OK\n",
    "def distm(X, remains, range_in, a):\n",
    "    nn, mm = X.shape\n",
    "    rr = len(remains)\n",
    "    z = X[remains, :]\n",
    "    az = np.tile(a, (rr, 1))\n",
    "    rz = np.tile(range_in, (rr, 1))\n",
    "    dz = np.divide(z - az, rz)\n",
    "    ddz = np.multiply(dz, dz)\n",
    "    \n",
    "    if mm > 1:\n",
    "        di = sum(ddz.T)  # eg sum, dimensions?\n",
    "    else:\n",
    "        di = ddz.T\n",
    "    \n",
    "    return np.array(di.T) # T not necessary?\n",
    "\n",
    "# remains = np.array([*range(X.shape[0])])\n",
    "# range_in = []\n",
    "# me = []\n",
    "\n",
    "# for j in range(X.shape[1]):\n",
    "#     range_in.append(max(X[:, j]) - min(X[:, j]))\n",
    "#     me.append(np.mean(X[:, j]))\n",
    "\n",
    "print(distm(X, remains, range_in, me))"
   ]
  },
  {
   "cell_type": "code",
   "execution_count": 18,
   "metadata": {},
   "outputs": [
    {
     "data": {
      "text/plain": [
       "array([-1.66666667, -2.66666667])"
      ]
     },
     "execution_count": 18,
     "metadata": {},
     "output_type": "execute_result"
    }
   ],
   "source": [
    "be = np.multiply(-1, me)\n",
    "be"
   ]
  },
  {
   "cell_type": "code",
   "execution_count": 19,
   "metadata": {},
   "outputs": [
    {
     "data": {
      "text/plain": [
       "array([0, 1, 2])"
      ]
     },
     "execution_count": 19,
     "metadata": {},
     "output_type": "execute_result"
    }
   ],
   "source": [
    "# rather OK\n",
    "def separc(X0, remains, range_in, a, b):\n",
    "    dista = distm(X0, remains, range_in, a)\n",
    "    distb = distm(X0, remains, range_in, b)\n",
    "    clus = dista < distb  # has to be np array\n",
    "    cluster = remains[clus]\n",
    "    return cluster #??\n",
    "\n",
    "separc(X, remains, range_in, me, be)"
   ]
  },
  {
   "cell_type": "code",
   "execution_count": 20,
   "metadata": {},
   "outputs": [
    {
     "name": "stdout",
     "output_type": "stream",
     "text": [
      "Hit 1 for NO normalization or just \"enter\"\n",
      "1\n",
      "([2.0, 2.6666666666666665], [1, 1], [1.0, 1.0], [3.0, 5.0], '1')\n"
     ]
    }
   ],
   "source": [
    "# rather OK\n",
    "def stand(X):\n",
    "    nn, mm = X.shape\n",
    "    print('Hit 1 for NO normalization or just \"enter\"')\n",
    "    sst = input()\n",
    "    me = []\n",
    "    mmax = []\n",
    "    mmin = []\n",
    "    range_in = []\n",
    "    \n",
    "    for jj in range(mm):\n",
    "        z = X[:, jj]\n",
    "        me.append(np.mean(z))\n",
    "        mmax.append(np.max(z))\n",
    "        mmin.append(np.min(z))\n",
    "        \n",
    "        if sst == \"1\":\n",
    "            range_in.append(1)\n",
    "        else:\n",
    "            range_in.append(mmax[jj] - mmin[jj])\n",
    "        \n",
    "        if range_in[jj] == 0:\n",
    "            print('Variable number' + str(jj) + '  is constant!')\n",
    "            range_in[jj] = 1\n",
    "    \n",
    "    return me, range_in, mmin, mmax, sst\n",
    "\n",
    "print(stand(X))"
   ]
  },
  {
   "cell_type": "code",
   "execution_count": 21,
   "metadata": {},
   "outputs": [
    {
     "name": "stdout",
     "output_type": "stream",
     "text": [
      "(array([], dtype=int32), [0, 0])\n"
     ]
    }
   ],
   "source": [
    "# rather OK\n",
    "def anpat(X, remains, range_in, centroid, me):\n",
    "    count = 0\n",
    "    key = 1\n",
    "    \n",
    "    while key == 1:\n",
    "        cluster = separc(X, remains, range_in, centroid, me)\n",
    "        if len(cluster) != 0:\n",
    "            newcenter = center(X, cluster)\n",
    "        else:\n",
    "            newcenter = centroid\n",
    "        if not np.array_equal(centroid, newcenter):\n",
    "            centroid = newcenter\n",
    "        else:\n",
    "            key = 0\n",
    "    \n",
    "    return cluster, centroid\n",
    "\n",
    "print(anpat(X, remains, range_in, [0, 0], me))"
   ]
  },
  {
   "cell_type": "code",
   "execution_count": 22,
   "metadata": {
    "scrolled": true
   },
   "outputs": [
    {
     "name": "stdout",
     "output_type": "stream",
     "text": [
      "{(0, 1): array([0, 1, 2]), (0, 2): array([-0.75      , -0.66666667]), (0, 3): array([[1012.5       , -320.        ],\n",
      "       [-506.25      ,  228.57142857],\n",
      "       [ 253.125     , -800.        ]])}\n"
     ]
    }
   ],
   "source": [
    "# rather OK\n",
    "def anomalous(X, me, range_in, D):\n",
    "    nn, mm = X.shape\n",
    "    remains = np.array([*range(nn)])\n",
    "    number = -1\n",
    "    ancl = dict()\n",
    "    \n",
    "    while len(remains) > 0:\n",
    "        distance = dist(X, remains, range_in, me)\n",
    "        #ind = np.where(distance == np.amax(distance, axis=0))[0]\n",
    "        ind = np.argmax(distance)\n",
    "        #print(ind)\n",
    "        index = remains[ind]\n",
    "        centroid = X[index, :]\n",
    "        \n",
    "        number += 1\n",
    "        cluster, centroid = anpat(X, remains, range_in, centroid, me)\n",
    "        #print(cluster, centroid)\n",
    "        ancl[(number, 1)] = cluster\n",
    "        \n",
    "        censtand = np.divide(centroid - me, range_in)\n",
    "        dD = censtand * censtand.T * len(cluster) * 100 / D\n",
    "        ancl[(number, 2)] = censtand\n",
    "        ancl[(number, 3)] = dD\n",
    "        remains = np.array(list(set(remains) - set(cluster)))\n",
    "    \n",
    "    return ancl\n",
    "\n",
    "D = X\n",
    "for i in range(2):\n",
    "    D[:,i] = (D[:,i] - me[i]) / range_in[i]\n",
    "\n",
    "print(anomalous(X, me, range_in, D))"
   ]
  },
  {
   "cell_type": "code",
   "execution_count": 23,
   "metadata": {},
   "outputs": [],
   "source": [
    "def ceupdate(X, labelc):\n",
    "    K = max(labelc)\n",
    "    centres = []\n",
    "    \n",
    "    for kk in range(K + 1):\n",
    "        clk = np.where(labelc == kk)[0]\n",
    "        \n",
    "        nc = len(clk)\n",
    "        elemk = X[clk, :]\n",
    "\n",
    "        if nc == 0:\n",
    "            print('At index ' + str(kk) + 'cluster is empty ')\n",
    "        elif nc == 1:\n",
    "            centres.append(elemk)\n",
    "        else:\n",
    "            centres.append(np.mean(elemk, axis=0))\n",
    "         \n",
    "    centres = np.array(centres)\n",
    "    return centres"
   ]
  },
  {
   "cell_type": "code",
   "execution_count": 24,
   "metadata": {},
   "outputs": [],
   "source": [
    "def clusterupdate(Y, cent):\n",
    "    K, m = cent.shape\n",
    "    N, m = Y.shape # why m again?\n",
    "    disto = []\n",
    "    \n",
    "    for k in range(K):\n",
    "        cc = cent[k, :]\n",
    "        Ck = np.tile(cc, (N, 1))\n",
    "        dif = Y - Ck\n",
    "        ddif = np.multiply(dif, dif)\n",
    "        disto.append(np.array(np.sum(ddif, axis=1)))\n",
    "        \n",
    "    aa = np.amin(disto, axis=0)\n",
    "    #print(disto)\n",
    "    bb = np.argmin(disto, axis=0)\n",
    "    #print(bb)\n",
    "    wc = sum(aa)\n",
    "    labelc = bb\n",
    "    return labelc, wc"
   ]
  },
  {
   "cell_type": "code",
   "execution_count": 25,
   "metadata": {},
   "outputs": [],
   "source": [
    "def k_means(Y, cent, range_in, me):\n",
    "    N, m = Y.shape\n",
    "    K, m1 = cent.shape\n",
    "    flag = 0\n",
    "    dd = sum(sum(np.multiply(Y, Y)))\n",
    "    membership = np.zeros((N, 1))\n",
    "    clusters = dict()\n",
    "    \n",
    "    while flag == 0:\n",
    "        labelc, wc = clusterupdate(Y, cent)\n",
    "        if np.array_equal(labelc, membership):\n",
    "            flag = 1\n",
    "            centre = cent\n",
    "            w = wc\n",
    "        else:\n",
    "            cent = ceupdate(Y, labelc)\n",
    "            membership = labelc\n",
    "    \n",
    "    centrestand = centre\n",
    "    centrereal = []\n",
    "    \n",
    "    for ii in range(K):\n",
    "        centrereal.append(np.multiply(centre[ii, :], range_in) + me)\n",
    "    \n",
    "    wd = w * 100 / dd\n",
    "    clusters[1] = membership\n",
    "    clusters[2] = centrestand\n",
    "    clusters[3] = centrereal\n",
    "    \n",
    "    return clusters, wd"
   ]
  },
  {
   "cell_type": "code",
   "execution_count": 26,
   "metadata": {},
   "outputs": [],
   "source": [
    "def ikmeansb(X, yvar):\n",
    "    nn, mm = X.shape\n",
    "    me, range_in, mmin, mmax, sst = stand(X)\n",
    "    \n",
    "    sY = (X - me) / range_in\n",
    "    D = sum(sum(np.multiply(sY, sY)))\n",
    "    ancl = anomalous(X, me, range_in, D)\n",
    "    \n",
    "    print('Input cluster cardinality to discard ')\n",
    "    threshold = int(input())\n",
    "    \n",
    "    b = 3\n",
    "    aK = int(len(ancl) / b)\n",
    "    ll = []\n",
    "    \n",
    "    for ik in range(aK):\n",
    "        ll.append(len(ancl[(ik, 1)]))\n",
    "        \n",
    "    ll = np.array(ll)\n",
    "    rl = np.where(ll > threshold)[0]\n",
    "\n",
    "    cent = []\n",
    "    \n",
    "    if len(rl) == 0:\n",
    "        print('Too great threshold!!!')\n",
    "    else:\n",
    "        for ik in range(len(rl)):\n",
    "            cent.append(ancl[(rl[ik], 2)])\n",
    "    \n",
    "    cent = np.array(cent)\n",
    "    clusters, wd = k_means(sY, cent, range_in, me)\n",
    "    # no report?\n",
    "    return clusters, wd"
   ]
  },
  {
   "cell_type": "code",
   "execution_count": 27,
   "metadata": {},
   "outputs": [
    {
     "name": "stdout",
     "output_type": "stream",
     "text": [
      "Hit 1 for NO normalization or just \"enter\"\n",
      "1\n",
      "Input cluster cardinality to discard \n",
      "10\n",
      "{1: array([1, 1, 1, 1, 1, 1, 1, 1, 1, 1, 1, 1, 1, 1, 1, 1, 1, 1, 1, 1, 1, 1,\n",
      "       1, 1, 1, 1, 1, 1, 1, 1, 1, 1, 1, 1, 1, 1, 1, 1, 1, 1, 1, 1, 1, 1,\n",
      "       1, 1, 1, 1, 1, 1, 0, 2, 0, 2, 2, 2, 2, 2, 2, 2, 2, 2, 2, 2, 2, 2,\n",
      "       2, 2, 2, 2, 2, 2, 2, 2, 2, 2, 2, 0, 2, 2, 2, 2, 2, 2, 2, 2, 2, 2,\n",
      "       2, 2, 2, 2, 2, 2, 2, 2, 2, 2, 2, 2, 0, 2, 0, 0, 0, 0, 2, 0, 0, 0,\n",
      "       0, 0, 0, 2, 2, 0, 0, 0, 0, 2, 0, 2, 0, 2, 0, 0, 2, 2, 0, 0, 0, 0,\n",
      "       0, 2, 0, 0, 0, 0, 2, 0, 0, 0, 2, 0, 0, 0, 2, 0, 0, 2], dtype=int64), 2: array([[ 1.01051282,  0.02292308,  1.95671795,  0.85517949],\n",
      "       [-0.83733333,  0.364     , -2.29466667, -0.95466667],\n",
      "       [ 0.04027322, -0.31301639,  0.62985792,  0.23575956]]), 3: [array([6.85384615, 3.07692308, 5.71538462, 2.05384615]), array([5.006, 3.418, 1.464, 0.244]), array([5.88360656, 2.74098361, 4.38852459, 1.43442623])]}\n"
     ]
    }
   ],
   "source": [
    "from sklearn.datasets import load_iris\n",
    "\n",
    "data_in = load_iris()\n",
    "x_values = data_in.data\n",
    "clusters, wd = ikmeansb(x_values, [])\n",
    "print(clusters)"
   ]
  },
  {
   "cell_type": "code",
   "execution_count": 28,
   "metadata": {},
   "outputs": [
    {
     "data": {
      "text/plain": [
       "<Figure size 640x480 with 1 Axes>"
      ]
     },
     "metadata": {},
     "output_type": "display_data"
    },
    {
     "data": {
      "text/plain": [
       "<Figure size 800x800 with 9 Axes>"
      ]
     },
     "metadata": {},
     "output_type": "display_data"
    },
    {
     "data": {
      "text/plain": [
       "<Figure size 640x480 with 1 Axes>"
      ]
     },
     "metadata": {},
     "output_type": "display_data"
    },
    {
     "data": {
      "text/plain": [
       "<Figure size 640x480 with 1 Axes>"
      ]
     },
     "metadata": {},
     "output_type": "display_data"
    },
    {
     "data": {
      "text/plain": [
       "<Figure size 640x480 with 1 Axes>"
      ]
     },
     "metadata": {},
     "output_type": "display_data"
    },
    {
     "data": {
      "text/plain": [
       "'\\n.. image:: PLOT2RST.current_figure\\n\\n'"
      ]
     },
     "execution_count": 28,
     "metadata": {},
     "output_type": "execute_result"
    }
   ],
   "source": [
    "\"\"\"\n",
    "EXAMPLE\n",
    "https://pythonhosted.org/scikit-fuzzy/auto_examples/plot_cmeans.html\n",
    "https://pythonhosted.org/scikit-fuzzy/api/skfuzzy.cluster.html\n",
    "========================\n",
    "Fuzzy c-means clustering\n",
    "========================\n",
    "\n",
    "Fuzzy logic principles can be used to cluster multidimensional data, assigning\n",
    "each point a *membership* in each cluster center from 0 to 100 percent. This\n",
    "can be very powerful compared to traditional hard-thresholded clustering where\n",
    "every point is assigned a crisp, exact label.\n",
    "\n",
    "Fuzzy c-means clustering is accomplished via ``skfuzzy.cmeans``, and the\n",
    "output from this function can be repurposed to classify new data according to\n",
    "the calculated clusters (also known as *prediction*) via\n",
    "``skfuzzy.cmeans_predict``\n",
    "\n",
    "Data generation and setup\n",
    "-------------------------\n",
    "\n",
    "In this example we will first undertake necessary imports, then define some\n",
    "test data to work with.\n",
    "\n",
    "\"\"\"\n",
    "from __future__ import division, print_function\n",
    "import numpy as np\n",
    "import matplotlib.pyplot as plt\n",
    "import skfuzzy as fuzz\n",
    "\n",
    "colors = ['b', 'orange', 'g', 'r', 'c', 'm', 'y', 'k', 'Brown', 'ForestGreen']\n",
    "\n",
    "# Define three cluster centers\n",
    "centers = [[4, 2],\n",
    "           [1, 7],\n",
    "           [5, 6]]\n",
    "\n",
    "# Define three cluster sigmas in x and y, respectively\n",
    "sigmas = [[0.8, 0.3],\n",
    "          [0.3, 0.5],\n",
    "          [1.1, 0.7]]\n",
    "\n",
    "# Generate test data\n",
    "np.random.seed(42)  # Set seed for reproducibility\n",
    "xpts = np.zeros(1)\n",
    "ypts = np.zeros(1)\n",
    "labels = np.zeros(1)\n",
    "for i, ((xmu, ymu), (xsigma, ysigma)) in enumerate(zip(centers, sigmas)):\n",
    "    xpts = np.hstack((xpts, np.random.standard_normal(200) * xsigma + xmu))\n",
    "    ypts = np.hstack((ypts, np.random.standard_normal(200) * ysigma + ymu))\n",
    "    labels = np.hstack((labels, np.ones(200) * i))\n",
    "\n",
    "# Visualize the test data\n",
    "fig0, ax0 = plt.subplots()\n",
    "for label in range(3):\n",
    "    ax0.plot(xpts[labels == label], ypts[labels == label], '.',\n",
    "             color=colors[label])\n",
    "ax0.set_title('Test data: 200 points x3 clusters.')\n",
    "\n",
    "\"\"\"\n",
    ".. image:: PLOT2RST.current_figure\n",
    "\n",
    "Clustering\n",
    "----------\n",
    "\n",
    "Above is our test data. We see three distinct blobs. However, what would happen\n",
    "if we didn't know how many clusters we should expect? Perhaps if the data were\n",
    "not so clearly clustered?\n",
    "\n",
    "Let's try clustering our data several times, with between 2 and 9 clusters.\n",
    "\n",
    "\"\"\"\n",
    "# Set up the loop and plot\n",
    "fig1, axes1 = plt.subplots(3, 3, figsize=(8, 8))\n",
    "alldata = np.vstack((xpts, ypts))\n",
    "fpcs = []\n",
    "\n",
    "for ncenters, ax in enumerate(axes1.reshape(-1), 2):\n",
    "    cntr, u, u0, d, jm, p, fpc = fuzz.cluster.cmeans(\n",
    "        alldata, ncenters, 2, error=0.005, maxiter=1000, init=None)\n",
    "\n",
    "    # Store fpc values for later\n",
    "    fpcs.append(fpc)\n",
    "\n",
    "    # Plot assigned clusters, for each data point in training set\n",
    "    cluster_membership = np.argmax(u, axis=0)\n",
    "    for j in range(ncenters):\n",
    "        ax.plot(xpts[cluster_membership == j],\n",
    "                ypts[cluster_membership == j], '.', color=colors[j])\n",
    "\n",
    "    # Mark the center of each fuzzy cluster\n",
    "    for pt in cntr:\n",
    "        ax.plot(pt[0], pt[1], 'rs')\n",
    "\n",
    "    ax.set_title('Centers = {0}; FPC = {1:.2f}'.format(ncenters, fpc))\n",
    "    ax.axis('off')\n",
    "\n",
    "fig1.tight_layout()\n",
    "\n",
    "\"\"\"\n",
    ".. image:: PLOT2RST.current_figure\n",
    "\n",
    "The fuzzy partition coefficient (FPC)\n",
    "-------------------------------------\n",
    "\n",
    "The FPC is defined on the range from 0 to 1, with 1 being best. It is a metric\n",
    "which tells us how cleanly our data is described by a certain model. Next we\n",
    "will cluster our set of data - which we know has three clusters - several\n",
    "times, with between 2 and 9 clusters. We will then show the results of the\n",
    "clustering, and plot the fuzzy partition coefficient. When the FPC is\n",
    "maximized, our data is described best.\n",
    "\n",
    "\"\"\"\n",
    "\n",
    "fig2, ax2 = plt.subplots()\n",
    "ax2.plot(np.r_[2:11], fpcs)\n",
    "ax2.set_xlabel(\"Number of centers\")\n",
    "ax2.set_ylabel(\"Fuzzy partition coefficient\")\n",
    "\n",
    "\"\"\"\n",
    ".. image:: PLOT2RST.current_figure\n",
    "\n",
    "As we can see, the ideal number of centers is 3. This isn't news for our\n",
    "contrived example, but having the FPC available can be very useful when the\n",
    "structure of your data is unclear.\n",
    "\n",
    "Note that we started with *two* centers, not one; clustering a dataset with\n",
    "only one cluster center is the trivial solution and will by definition return\n",
    "FPC == 1.\n",
    "\n",
    "\n",
    "====================\n",
    "Classifying New Data\n",
    "====================\n",
    "\n",
    "Now that we can cluster data, the next step is often fitting new points into\n",
    "an existing model. This is known as prediction. It requires both an existing\n",
    "model and new data to be classified.\n",
    "\n",
    "Building the model\n",
    "------------------\n",
    "\n",
    "We know our best model has three cluster centers. We'll rebuild a 3-cluster\n",
    "model for use in prediction, generate new uniform data, and predict which\n",
    "cluster to which each new data point belongs.\n",
    "\n",
    "\"\"\"\n",
    "# Regenerate fuzzy model with 3 cluster centers - note that center ordering\n",
    "# is random in this clustering algorithm, so the centers may change places\n",
    "cntr, u_orig, _, _, _, _, _ = fuzz.cluster.cmeans(\n",
    "    alldata, 3, 2, error=0.005, maxiter=1000)\n",
    "\n",
    "# Show 3-cluster model\n",
    "fig2, ax2 = plt.subplots()\n",
    "ax2.set_title('Trained model')\n",
    "for j in range(3):\n",
    "    ax2.plot(alldata[0, u_orig.argmax(axis=0) == j],\n",
    "             alldata[1, u_orig.argmax(axis=0) == j], 'o',\n",
    "             label='series ' + str(j))\n",
    "ax2.legend()\n",
    "\n",
    "\"\"\"\n",
    ".. image:: PLOT2RST.current_figure\n",
    "\n",
    "Prediction\n",
    "----------\n",
    "\n",
    "Finally, we generate uniformly sampled data over this field and classify it\n",
    "via ``cmeans_predict``, incorporating it into the pre-existing model.\n",
    "\n",
    "\"\"\"\n",
    "\n",
    "# Generate uniformly sampled data spread across the range [0, 10] in x and y\n",
    "newdata = np.random.uniform(0, 1, (1100, 2)) * 10\n",
    "\n",
    "# Predict new cluster membership with `cmeans_predict` as well as\n",
    "# `cntr` from the 3-cluster model\n",
    "u, u0, d, jm, p, fpc = fuzz.cluster.cmeans_predict(\n",
    "    newdata.T, cntr, 2, error=0.005, maxiter=1000)\n",
    "\n",
    "# Plot the classified uniform data. Note for visualization the maximum\n",
    "# membership value has been taken at each point (i.e. these are hardened,\n",
    "# not fuzzy results visualized) but the full fuzzy result is the output\n",
    "# from cmeans_predict.\n",
    "cluster_membership = np.argmax(u, axis=0)  # Hardening for visualization\n",
    "\n",
    "fig3, ax3 = plt.subplots()\n",
    "ax3.set_title('Random points classifed according to known centers')\n",
    "for j in range(3):\n",
    "    ax3.plot(newdata[cluster_membership == j, 0],\n",
    "             newdata[cluster_membership == j, 1], 'o',\n",
    "             label='series ' + str(j))\n",
    "ax3.legend()\n",
    "\n",
    "plt.show()\n",
    "\n",
    "\"\"\"\n",
    ".. image:: PLOT2RST.current_figure\n",
    "\n",
    "\"\"\"\n"
   ]
  },
  {
   "cell_type": "code",
   "execution_count": 29,
   "metadata": {},
   "outputs": [],
   "source": [
    "from numpy import genfromtxt\n",
    "data = genfromtxt('tripadvisor_review.csv', delimiter=',')\n",
    "data = data[1:, 1:]\n",
    "\n",
    "x = data[:,5] # Resorts\n",
    "y = data[:,4] # Museums\n",
    "\n",
    "alldata = np.vstack((x, y))    # how to visualize data with more than 2/3 features?"
   ]
  },
  {
   "cell_type": "code",
   "execution_count": 30,
   "metadata": {},
   "outputs": [
    {
     "data": {
      "image/png": "[encoded data removed]",
      "text/plain": [
       "<Figure size 576x576 with 9 Axes>"
      ]
     },
     "metadata": {
      "needs_background": "light"
     },
     "output_type": "display_data"
    },
    {
     "data": {
      "image/png": "[encoded data removed]",
      "text/plain": [
       "<Figure size 432x288 with 1 Axes>"
      ]
     },
     "metadata": {
      "needs_background": "light"
     },
     "output_type": "display_data"
    }
   ],
   "source": [
    "fig1, axes1 = plt.subplots(3, 3, figsize=(8, 8))\n",
    "fpcs = []\n",
    "\n",
    "for ncenters, ax in enumerate(axes1.reshape(-1), 2):\n",
    "    cntr, u, u0, d, jm, p, fpc = fuzz.cluster.cmeans(\n",
    "        alldata, ncenters, 2, error=0.005, maxiter=1000, init=None)\n",
    "\n",
    "    # Store fpc values for later\n",
    "    fpcs.append(fpc)\n",
    "\n",
    "    # Plot assigned clusters, for each data point in training set\n",
    "    cluster_membership = np.argmax(u, axis=0)\n",
    "    for j in range(ncenters):\n",
    "        ax.plot(x[cluster_membership == j],\n",
    "                y[cluster_membership == j], '.', color=colors[j])\n",
    "\n",
    "    # Mark the center of each fuzzy cluster\n",
    "    for pt in cntr:\n",
    "        ax.plot(pt[0], pt[1], 'rs')\n",
    "\n",
    "    ax.set_title('Centers = {0}; FPC = {1:.2f}'.format(ncenters, fpc))\n",
    "    ax.axis('off')\n",
    "\n",
    "fig1.tight_layout()\n",
    "\n",
    "fig2, ax2 = plt.subplots()\n",
    "ax2.plot(np.r_[2:11], fpcs)\n",
    "ax2.set_xlabel(\"Number of centers\")\n",
    "ax2.set_ylabel(\"Fuzzy partition coefficient\");"
   ]
  },
  {
   "cell_type": "markdown",
   "metadata": {},
   "source": [
    "// the less clusters the better xD"
   ]
  }
 ],
 "metadata": {
  "kernelspec": {
   "display_name": "Python 3",
   "language": "python",
   "name": "python3"
  },
  "language_info": {
   "codemirror_mode": {
    "name": "ipython",
    "version": 3
   },
   "file_extension": ".py",
   "mimetype": "text/x-python",
   "name": "python",
   "nbconvert_exporter": "python",
   "pygments_lexer": "ipython3",
   "version": "3.7.0"
  }
 },
 "nbformat": 4,
 "nbformat_minor": 2
}
