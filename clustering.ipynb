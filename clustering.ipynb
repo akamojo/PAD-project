{
 "cells": [
  {
   "cell_type": "markdown",
   "metadata": {},
   "source": [
    "usunac atrybut klasy przed klastrowaniem\n",
    "efficiency of algo, ile razy przy deterministycznej inicjalizacji trzeba bylo odpalic, itp"
   ]
  },
  {
   "cell_type": "code",
   "execution_count": 3,
   "metadata": {},
   "outputs": [],
   "source": [
    "import numpy as np"
   ]
  },
  {
   "cell_type": "code",
   "execution_count": 44,
   "metadata": {},
   "outputs": [],
   "source": [
    "X = np.array([[1.0, 1.0], [1.0, 5.0], [3.0, 2.0]])\n",
    "cluster = [1, 2]\n",
    "ccc = np.array([0.0, 0.0])"
   ]
  },
  {
   "cell_type": "code",
   "execution_count": 42,
   "metadata": {},
   "outputs": [
    {
     "name": "stdout",
     "output_type": "stream",
     "text": [
      "[2.  3.5]\n"
     ]
    }
   ],
   "source": [
    "def center(X, cluster, ccc):\n",
    "    nn, mm = X.shape\n",
    "    for jj in range(mm):\n",
    "        zz = X[:, jj]\n",
    "        zc = zz[cluster]\n",
    "        ccc[jj] = np.mean(zc, dtype=np.float32)\n",
    "    \n",
    "    return ccc\n",
    "\n",
    "print(center(X, cluster, ccc))"
   ]
  },
  {
   "cell_type": "code",
   "execution_count": 45,
   "metadata": {},
   "outputs": [
    {
     "name": "stdout",
     "output_type": "stream",
     "text": [
      "[0.66666667 0.54166667]\n"
     ]
    }
   ],
   "source": [
    "def dist(X, remains, range_in, a):\n",
    "    nn, mm = X.shape\n",
    "    rr = len(remains)\n",
    "    distan = []\n",
    "    \n",
    "    for jj in range(mm):\n",
    "        z = X[:, jj]\n",
    "        zz = z[remains]\n",
    "        y = zz - a[jj]\n",
    "        y = y / range_in[jj]\n",
    "        yy = np.dot(y, y.T)\n",
    "        distan.append(yy)\n",
    "        \n",
    "    return np.array(distan)\n",
    "\n",
    "remains = [*range(X.shape[0])]\n",
    "range_in = []\n",
    "me = []\n",
    "\n",
    "for j in range(X.shape[1]):\n",
    "    range_in.append(max(X[:, j]) - min(X[:, j]))\n",
    "    me.append(np.mean(X[:, j]))\n",
    "\n",
    "print(dist(X, remains, range_in, me))"
   ]
  }
 ],
 "metadata": {
  "kernelspec": {
   "display_name": "Python 3",
   "language": "python",
   "name": "python3"
  },
  "language_info": {
   "codemirror_mode": {
    "name": "ipython",
    "version": 3
   },
   "file_extension": ".py",
   "mimetype": "text/x-python",
   "name": "python",
   "nbconvert_exporter": "python",
   "pygments_lexer": "ipython3",
   "version": "3.7.0"
  }
 },
 "nbformat": 4,
 "nbformat_minor": 2
}
