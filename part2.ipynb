{
 "cells": [
  {
   "cell_type": "code",
   "execution_count": 54,
   "metadata": {},
   "outputs": [],
   "source": [
    "file = open(\"en1.8m.txt\", \"r\", encoding=\"utf8\")\n",
    "whole_text = file.read()"
   ]
  },
  {
   "cell_type": "code",
   "execution_count": 55,
   "metadata": {},
   "outputs": [],
   "source": [
    "text = whole_text.split('\\n')"
   ]
  },
  {
   "cell_type": "code",
   "execution_count": 15,
   "metadata": {},
   "outputs": [
    {
     "name": "stdout",
     "output_type": "stream",
     "text": [
      "The9rain9in9Spain\n"
     ]
    }
   ],
   "source": [
    "import re\n",
    "\n",
    "#Replace all white-space characters with the digit \"9\":\n",
    "\n",
    "str = \"The rain in Spain\"\n",
    "x = re.sub(\"\\s\", \"9\", str)\n",
    "print(x)\n"
   ]
  },
  {
   "cell_type": "code",
   "execution_count": 23,
   "metadata": {},
   "outputs": [
    {
     "name": "stdout",
     "output_type": "stream",
     "text": [
      "0 a\n",
      "2 b\n",
      "4 c\n",
      "6 d\n"
     ]
    }
   ],
   "source": [
    "p = re.compile(\"[a-z]\")\n",
    "for m in p.finditer('a1b2c3d4'):\n",
    "    print(m.start(), m.group())\n",
    "    #s[:4] + '-' + s[4:]\n",
    "    "
   ]
  },
  {
   "cell_type": "code",
   "execution_count": 45,
   "metadata": {},
   "outputs": [
    {
     "name": "stdout",
     "output_type": "stream",
     "text": [
      "Greek Christian scribes played a crucial role in the preservation of Aristotle by copying all the extant Greek language manuscripts of the corpus . The first Greek Christians to comment extensively on Aristotle were John Philoponus , Elias , and David in the sixth century , and Stephen of Alexandria in the early seventh century . John Philoponus stands out for having attempted a fundamental critique of Aristotle' s views on the eternity of the world , movement , and other elements of Aristotelian thought . After a hiatus of several centuries , formal commentary by Eustratius and Michael of Ephesus reappears in the late eleventh and early twelfth centuries , apparently sponsored by Anna Comnena .\n"
     ]
    }
   ],
   "source": [
    "def append_space(text, pattern, left=True):\n",
    "    p = re.compile(\"[\" + pattern + \"]\")\n",
    "    \n",
    "    for i, m in enumerate(p.finditer(text)):\n",
    "        if left:\n",
    "            text = text[: m.start() + i] + \" \" + text[m.start() + i :]\n",
    "        else:\n",
    "            text = text[: m.start() + 1 + i] + \" \" + text[m.start() + 1 + i :]\n",
    "            \n",
    "    return text\n",
    "\n",
    "print(append_space(test, \",.\"))"
   ]
  },
  {
   "cell_type": "code",
   "execution_count": 43,
   "metadata": {},
   "outputs": [
    {
     "name": "stdout",
     "output_type": "stream",
     "text": [
      "Greek Christian scribes played a crucial role in the preservation of Aristotle by copying all the extant Greek language manuscripts of the corpus. The first Greek Christians to comment extensively on Aristotle were John Philoponus, Elias, and David in the sixth century, and Stephen of Alexandria in the early seventh century. John Philoponus stands out for having attempted a fundamental critique of Aristotle's views on the eternity of the world, movement, and other elements of Aristotelian thought. After a hiatus of several centuries, formal commentary by Eustratius and Michael of Ephesus reappears in the late eleventh and early twelfth centuries, apparently sponsored by Anna Comnena.\n",
      "Greek Christian scribes played a crucial role in the preservation of Aristotle by copying all the extant Greek language manuscripts of the corpus. The first Greek Christians to comment extensively on Aristotle were John Philoponus, Elias, and David in the sixth century, and Stephen of Alexandria in the early seventh century. John Philoponus stands out for having attempted a fundamental critique of Aristotle' s views on the eternity of the world, movement, and other elements of Aristotelian thought. After a hiatus of several centuries, formal commentary by Eustratius and Michael of Ephesus reappears in the late eleventh and early twelfth centuries, apparently sponsored by Anna Comnena.\n"
     ]
    }
   ],
   "source": [
    "test = text[0]\n",
    "print(test)\n",
    "p = re.compile(\"[']\")\n",
    "\n",
    "for i, m in enumerate(p.finditer(test)):\n",
    "    test = test[: m.start() + 1 + i] + \" \" + test[m.start() + 1 + i :]\n",
    "    \n",
    "print(test)"
   ]
  },
  {
   "cell_type": "code",
   "execution_count": 56,
   "metadata": {},
   "outputs": [
    {
     "data": {
      "text/plain": [
       "\"Greek Christian scribes played a crucial role in the preservation of Aristotle by copying all the extant Greek language manuscripts of the corpus. The first Greek Christians to comment extensively on Aristotle were John Philoponus , Elias , and David in the sixth century , and Stephen of Alexandria in the early seventh century. John Philoponus stands out for having attempted a fundamental critique of Aristotle's views on the eternity of the world , movement , and other elements of Aristotelian thought. After a hiatus of several centuries , formal commentary by Eustratius and Michael of Ephesus reappears in the late eleventh and early twelfth centuries , apparently sponsored by Anna Comnena.\""
      ]
     },
     "execution_count": 56,
     "metadata": {},
     "output_type": "execute_result"
    }
   ],
   "source": [
    "for i in range(len(text)):\n",
    "    text[i] = append_space(text[i], \",\\])>\")\n",
    "    #text[i] = append_space(text[i], \".\")\n",
    "    text[i] = append_space(text[i], \"\\[(<\", False)\n",
    "\n",
    "\n",
    "text[0]"
   ]
  },
  {
   "cell_type": "code",
   "execution_count": 57,
   "metadata": {},
   "outputs": [
    {
     "data": {
      "text/plain": [
       "[\"Greek Christian scribes played a crucial role in the preservation of Aristotle by copying all the extant Greek language manuscripts of the corpus. The first Greek Christians to comment extensively on Aristotle were John Philoponus , Elias , and David in the sixth century , and Stephen of Alexandria in the early seventh century. John Philoponus stands out for having attempted a fundamental critique of Aristotle's views on the eternity of the world , movement , and other elements of Aristotelian thought. After a hiatus of several centuries , formal commentary by Eustratius and Michael of Ephesus reappears in the late eleventh and early twelfth centuries , apparently sponsored by Anna Comnena.\",\n",
       " 'ASCII codes represent text in computers , communications equipment , and other devices that use text. Most modern character-encoding schemes are based on ASCII , though they support many additional characters.',\n",
       " 'Energy.',\n",
       " 'The wording of the arraignment varies from jurisdiction to jurisdiction. However , it generally conforms with the following principles:',\n",
       " 'The discipline of anatomy is divided into macroscopic and microscopic anatomy. Macroscopic anatomy , or gross anatomy , is the examination of an animal’s body parts using unaided eyesight. Gross anatomy also includes the branch of superficial anatomy. Microscopic anatomy involves the use of optical instruments in the study of the tissues of various structures , known as histology and also in the study of cells.',\n",
       " 'The Portuguese were present in some – mostly coastal – points of the territory of what is now Angola , from the 16th to the 19th century , interacting in diverse ways with the peoples who lived there. In the 19th century , they slowly and hesitantly began to establish themselves in the interior. Angola as a Portuguese colony encompassing the present territory was not established before the end of the 19th century , and \"effective occupation\" , as required by the Berlin Conference ( 1884 ) was achieved only by the 1920s after the Mbunda resistance and abduction of their King , Mwene Mbandu I Lyondthzi Kapova. Independence was achieved in 1975 , after a protracted liberation war. After independence , Angola was the scene of an intense civil war from 1975 to 2002. Despite the civil war , areas such as Baixa de Cassanje continue a lineage of kings which have included the former King Kambamba Kulaxingo and current King Dianhenga Aspirante Mjinji Kulaxingo.',\n",
       " 'At the dawn of the establishment of the Ottoman Empire in Southeast Europe , the geopolitical landscape was marked by scattered kingdoms of small principalities. The Ottomans erected their garrisons throughout southern Albania by 1415 and established formal jurisdiction over most of Albania by 1431. However , on 1443 a great and longstanding revolt broke under the lead of the Albanian national hero Skanderbeg , which lasted until 1479 , many times defeating major Ottoman armies led by sultans Murad II and Mehmed II. Skanderbeg united initially the Albanian princes and later established a centralized authority over most of the non-conquered territories , becoming Lord of Albania. He also tried relentlessly but rather unsuccessfully to create a European coalition against the Ottomans. He frustrated every attempt by the Turks to regain Albania , which they envisioned as a springboard for the invasion of Italy and western Europe. His unequal fight against the mightiest power of the time won the esteem of Europe as well as some support in the form of money and military aid from Naples , the papacy , Venice , and Ragusa.',\n",
       " '< doc id=\"772\" url=\"http://en.wikipedia.org/wiki?curid=772\" title=\"Ampere\" >',\n",
       " 'Bibliography',\n",
       " 'A possible etymology is a derivation from the Greek word \"\" – \"aiges\" = \"\"waves\"\" ( Hesychius of Alexandria; metaphorical use of ( \"aix\" ) \"goat\" ) , hence \"wavy sea\" , cf. also ( aigialos = aiges \"( waves )\" + hals \"( sea )\" ) , hence meaning \"sea-shore\".']"
      ]
     },
     "execution_count": 57,
     "metadata": {},
     "output_type": "execute_result"
    }
   ],
   "source": [
    "text[:10]"
   ]
  }
 ],
 "metadata": {
  "kernelspec": {
   "display_name": "Python 3",
   "language": "python",
   "name": "python3"
  },
  "language_info": {
   "codemirror_mode": {
    "name": "ipython",
    "version": 3
   },
   "file_extension": ".py",
   "mimetype": "text/x-python",
   "name": "python",
   "nbconvert_exporter": "python",
   "pygments_lexer": "ipython3",
   "version": "3.7.0"
  }
 },
 "nbformat": 4,
 "nbformat_minor": 2
}
