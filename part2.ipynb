{
 "cells": [
  {
   "cell_type": "code",
   "execution_count": 1,
   "metadata": {},
   "outputs": [],
   "source": [
    "file = open(\"en1.8m.txt\", \"r\", encoding=\"utf8\")\n",
    "whole_text = file.read()"
   ]
  },
  {
   "cell_type": "code",
   "execution_count": 2,
   "metadata": {},
   "outputs": [],
   "source": [
    "text = whole_text.split('\\n')"
   ]
  },
  {
   "cell_type": "code",
   "execution_count": 3,
   "metadata": {},
   "outputs": [
    {
     "name": "stdout",
     "output_type": "stream",
     "text": [
      "The9rain9in9Spain\n"
     ]
    }
   ],
   "source": [
    "import re\n",
    "\n",
    "#Replace all white-space characters with the digit \"9\":\n",
    "\n",
    "str = \"The rain in Spain\"\n",
    "x = re.sub(\"\\s\", \"9\", str)\n",
    "print(x)\n"
   ]
  },
  {
   "cell_type": "code",
   "execution_count": 4,
   "metadata": {},
   "outputs": [
    {
     "name": "stdout",
     "output_type": "stream",
     "text": [
      "0 a\n",
      "2 b\n",
      "4 c\n",
      "6 d\n"
     ]
    }
   ],
   "source": [
    "p = re.compile(\"[a-z]\")\n",
    "for m in p.finditer('a1b2c3d4'):\n",
    "    print(m.start(), m.group())\n",
    "    #s[:4] + '-' + s[4:]\n",
    "    "
   ]
  },
  {
   "cell_type": "code",
   "execution_count": 4,
   "metadata": {},
   "outputs": [
    {
     "ename": "NameError",
     "evalue": "name 'test' is not defined",
     "output_type": "error",
     "traceback": [
      "\u001b[1;31m---------------------------------------------------------------------------\u001b[0m",
      "\u001b[1;31mNameError\u001b[0m                                 Traceback (most recent call last)",
      "\u001b[1;32m<ipython-input-4-19ab2c020b92>\u001b[0m in \u001b[0;36m<module>\u001b[1;34m()\u001b[0m\n\u001b[0;32m     10\u001b[0m     \u001b[1;32mreturn\u001b[0m \u001b[0mtext\u001b[0m\u001b[1;33m\u001b[0m\u001b[0m\n\u001b[0;32m     11\u001b[0m \u001b[1;33m\u001b[0m\u001b[0m\n\u001b[1;32m---> 12\u001b[1;33m \u001b[0mprint\u001b[0m\u001b[1;33m(\u001b[0m\u001b[0mappend_space\u001b[0m\u001b[1;33m(\u001b[0m\u001b[0mtest\u001b[0m\u001b[1;33m,\u001b[0m \u001b[1;34m\",.\"\u001b[0m\u001b[1;33m)\u001b[0m\u001b[1;33m)\u001b[0m\u001b[1;33m\u001b[0m\u001b[0m\n\u001b[0m",
      "\u001b[1;31mNameError\u001b[0m: name 'test' is not defined"
     ]
    }
   ],
   "source": [
    "def append_space(text, pattern, left=True):\n",
    "    p = re.compile(\"[\" + pattern + \"]\")\n",
    "    \n",
    "    for i, m in enumerate(p.finditer(text)):\n",
    "        if left:\n",
    "            text = text[: m.start() + i] + \" \" + text[m.start() + i :]\n",
    "        else:\n",
    "            text = text[: m.start() + 1 + i] + \" \" + text[m.start() + 1 + i :]\n",
    "            \n",
    "    return text\n",
    "\n",
    "print(append_space(test, \",.\"))"
   ]
  },
  {
   "cell_type": "code",
   "execution_count": 7,
   "metadata": {},
   "outputs": [
    {
     "name": "stdout",
     "output_type": "stream",
     "text": [
      "Greek Christian scribes played a crucial role in the preservation of Aristotle by copying all the extant Greek language manuscripts of the corpus. The first Greek Christians to comment extensively on Aristotle were John Philoponus, Elias, and David in the sixth century, and Stephen of Alexandria in the early seventh century. John Philoponus stands out for having attempted a fundamental critique of Aristotle's views on the eternity of the world, movement, and other elements of Aristotelian thought. After a hiatus of several centuries, formal commentary by Eustratius and Michael of Ephesus reappears in the late eleventh and early twelfth centuries, apparently sponsored by Anna Comnena.\n",
      "Greek Christian scribes played a crucial role in the preservation of Aristotle by copying all the extant Greek language manuscripts of the corpus. The first Greek Christians to comment extensively on Aristotle were John Philoponus, Elias, and David in the sixth century, and Stephen of Alexandria in the early seventh century. John Philoponus stands out for having attempted a fundamental critique of Aristotle' s views on the eternity of the world, movement, and other elements of Aristotelian thought. After a hiatus of several centuries, formal commentary by Eustratius and Michael of Ephesus reappears in the late eleventh and early twelfth centuries, apparently sponsored by Anna Comnena.\n"
     ]
    }
   ],
   "source": [
    "test = text[0]\n",
    "print(test)\n",
    "p = re.compile(\"[']\")\n",
    "\n",
    "for i, m in enumerate(p.finditer(test)):\n",
    "    test = test[: m.start() + 1 + i] + \" \" + test[m.start() + 1 + i :]\n",
    "    \n",
    "print(test)"
   ]
  },
  {
   "cell_type": "code",
   "execution_count": 12,
   "metadata": {},
   "outputs": [],
   "source": [
    "file = open(\"en1.8m.txt\", \"r\", encoding=\"utf8\")\n",
    "whole_text = file.read()\n",
    "text = whole_text.split('\\n')\n",
    "\n",
    "dictionary = dict()\n",
    "words_number = 0\n",
    "\n",
    "for i in range(len(text)):\n",
    "    text[i] = append_space(text[i], \",\\])>\")\n",
    "    text[i] = append_space(text[i], \".\")\n",
    "    text[i] = append_space(text[i], \"\\[(<\", False)\n",
    "    \n",
    "    for w in text[i].split():\n",
    "        if w.isalpha():\n",
    "            words_number += 1\n",
    "            try:\n",
    "                dictionary[w.lower()] += 1\n",
    "            except KeyError:\n",
    "                dictionary[w.lower()] = 1"
   ]
  },
  {
   "cell_type": "code",
   "execution_count": 13,
   "metadata": {},
   "outputs": [
    {
     "name": "stdout",
     "output_type": "stream",
     "text": [
      "1675443\n",
      "('the', 130038) ('of', 62755) ('and', 53328) ('in', 52196) ('a', 37979) ('to', 37104) ('was', 22099) ('is', 18935) ('for', 15281) ('on', 14892) ('as', 14818) ('with', 12908) ('by', 12905) ('he', 11489) ('that', 10390) ('at', 9930) ('from', 9566) ('his', 9316) ('it', 8532) ('an', 7113) ('were', 6047) ('are', 5860) ('which', 5561) ('doc', 5454) ('this', 4854) ('also', 4815) ('be', 4729) ('or', 4641) ('has', 4512) ('had', 4280) ('first', 4058) ('their', 3959) ('one', 3632) ('its', 3519) ('but', 3491) ('after', 3461) ('new', 3388) ('they', 3383) ('not', 3381) ('who', 3295) ('have', 3107) ('two', 2973) ('her', 2966) ('she', 2799) ('been', 2741) ('other', 2693) ('when', 2508) ('during', 2390) ('there', 2349) ('into', 2312) ('all', 2155) ('time', 2121) ('more', 2081) ('may', 1998) ('only', 1964) ('school', 1962) ('years', 1937) ('most', 1917) ('would', 1835) ('over', 1795) ('some', 1733) ('national', 1699) ('such', 1696) ('out', 1677) ('between', 1672) ('about', 1671) ('up', 1665) ('where', 1663) ('later', 1657) ('him', 1657) ('used', 1653) ('world', 1602) ('then', 1599) ('city', 1588) ('many', 1566) ('can', 1566) ('three', 1563) ('state', 1554) ('while', 1552) ('made', 1551) ('year', 1519) ('known', 1511) ('part', 1480) ('under', 1479) ('united', 1457) ('university', 1446) ('these', 1438) ('than', 1417) ('no', 1400) ('became', 1389) ('being', 1387) ('american', 1384) ('second', 1376) ('states', 1361) ('before', 1356) ('both', 1352) ('team', 1352) ('season', 1350) ('film', 1337) ('through', 1329) ('war', 1315) "
     ]
    }
   ],
   "source": [
    "it = 0\n",
    "print(words_number)\n",
    "\n",
    "for i in sorted(dictionary, key=dictionary.get, reverse=True): \n",
    "    if it > 100:\n",
    "        break\n",
    "\n",
    "    print((i, dictionary[i]), end =\" \")\n",
    "    it += 1"
   ]
  },
  {
   "cell_type": "code",
   "execution_count": 14,
   "metadata": {},
   "outputs": [],
   "source": [
    "test = \"Greek Christian scribes played a crucial role in the preservation of Aristotle by copying all the extant Greek language manuscripts of the corpus. The first Greek Christians to comment extensively on Aristotle were John Philoponus, Elias, and David in the sixth century, and Stephen of Alexandria in the early seventh century. John Philoponus stands out for having attempted a fundamental critique of Aristotle's views on the eternity of the world, movement, and other elements of Aristotelian thought. After a hiatus of several centuries, formal commentary by Eustratius and Michael of Ephesus reappears in the late eleventh and early twelfth centuries, apparently sponsored by Anna Comnena.\""
   ]
  },
  {
   "cell_type": "code",
   "execution_count": 40,
   "metadata": {},
   "outputs": [
    {
     "name": "stdout",
     "output_type": "stream",
     "text": [
      "Greek Christian scribes played a crucial role in the preservation of Aristotle by copying all the extant Greek language manuscripts of the corpus  . The first Greek Christians to comment extensively on Aristotle were John Philoponus  , Elias  , and David in the sixth century  , and Stephen of Alexandria in the early seventh century  . John Philoponus stands out for having attempted a fundamental critique of Aristotle's views on the eternity of the world  , movement  , and other elements of Aristotelian thought  . After a hiatus of several centuries  , formal commentary by Eustratius and Michael of Ephesus reappears in the late eleventh and early twelfth centuries  , apparently sponsored by Anna Comnena  .\n",
      "{'Greek': 3, 'Christian': 1, 'scribes': 1, 'played': 1, 'a': 3, 'crucial': 1, 'role': 1, 'in': 4, 'the': 8, 'preservation': 1, 'of': 8, 'Aristotle': 2, 'by': 3, 'copying': 1, 'all': 1, 'extant': 1, 'language': 1, 'manuscripts': 1, 'corpus': 1, 'The': 1, 'first': 1, 'Christians': 1, 'to': 1, 'comment': 1, 'extensively': 1, 'on': 2, 'were': 1, 'John': 2, 'Philoponus': 2, 'Elias': 1, 'and': 5, 'David': 1, 'sixth': 1, 'century': 2, 'Stephen': 1, 'Alexandria': 1, 'early': 2, 'seventh': 1, 'stands': 1, 'out': 1, 'for': 1, 'having': 1, 'attempted': 1, 'fundamental': 1, 'critique': 1, 'views': 1, 'eternity': 1, 'world': 1, 'movement': 1, 'other': 1, 'elements': 1, 'Aristotelian': 1, 'thought': 1, 'After': 1, 'hiatus': 1, 'several': 1, 'centuries': 2, 'formal': 1, 'commentary': 1, 'Eustratius': 1, 'Michael': 1, 'Ephesus': 1, 'reappears': 1, 'late': 1, 'eleventh': 1, 'twelfth': 1, 'apparently': 1, 'sponsored': 1, 'Anna': 1, 'Comnena': 1}\n",
      "104\n"
     ]
    }
   ],
   "source": [
    "test_dict = dict()\n",
    "test_number = 0\n",
    "\n",
    "test = append_space(test, \",\\])>\")\n",
    "test = append_space(test, \".\")\n",
    "test = append_space(test, \"\\[(<\", False)\n",
    "\n",
    "print(test)\n",
    "\n",
    "for w in test.split():\n",
    "    if w.isalpha():\n",
    "        test_number += 1\n",
    "        try:\n",
    "            test_dict[w] += 1\n",
    "        except KeyError:\n",
    "            test_dict[w] = 1\n",
    "            \n",
    "print(test_dict)\n",
    "print(test_number)"
   ]
  },
  {
   "cell_type": "code",
   "execution_count": 59,
   "metadata": {},
   "outputs": [],
   "source": [
    "def build_n_gram(test_arr, n_gram):\n",
    "    cur_gram = []\n",
    "    count_gram = 0\n",
    "    grams = dict()\n",
    "    number_grams = 0\n",
    "\n",
    "    for i in range(len(test_arr)):\n",
    "        if not test_arr[i].isalpha():\n",
    "            continue\n",
    "\n",
    "        cur_gram = [test_arr[i]]\n",
    "\n",
    "        for j in range(i + 1, i + n_gram):\n",
    "            if not test_arr[j].isalpha():\n",
    "                break\n",
    "\n",
    "            cur_gram.append(test_arr[j])\n",
    "\n",
    "        if len(cur_gram) == n_gram:\n",
    "            number_grams += 1\n",
    "            try:\n",
    "                grams[\" \".join(cur_gram)] += 1\n",
    "            except KeyError:\n",
    "                grams[\" \".join(cur_gram)] = 1\n",
    "\n",
    "    #print(number_grams, len(grams))\n",
    "    \n",
    "    for k in grams:\n",
    "        grams[k] /= number_grams\n",
    "    \n",
    "    return grams"
   ]
  },
  {
   "cell_type": "code",
   "execution_count": 67,
   "metadata": {},
   "outputs": [],
   "source": [
    "big_dict = []\n",
    "\n",
    "for n in range(3):\n",
    "    big_dict.append(build_n_gram(test.split(), n + 1))"
   ]
  },
  {
   "cell_type": "code",
   "execution_count": 116,
   "metadata": {},
   "outputs": [
    {
     "data": {
      "text/plain": [
       "{'Greek Christian': 0.010869565217391304,\n",
       " 'Christian scribes': 0.010869565217391304,\n",
       " 'scribes played': 0.010869565217391304,\n",
       " 'played a': 0.010869565217391304,\n",
       " 'a crucial': 0.010869565217391304,\n",
       " 'crucial role': 0.010869565217391304,\n",
       " 'role in': 0.010869565217391304,\n",
       " 'in the': 0.043478260869565216,\n",
       " 'the preservation': 0.010869565217391304,\n",
       " 'preservation of': 0.010869565217391304,\n",
       " 'of Aristotle': 0.010869565217391304,\n",
       " 'Aristotle by': 0.010869565217391304,\n",
       " 'by copying': 0.010869565217391304,\n",
       " 'copying all': 0.010869565217391304,\n",
       " 'all the': 0.010869565217391304,\n",
       " 'the extant': 0.010869565217391304,\n",
       " 'extant Greek': 0.010869565217391304,\n",
       " 'Greek language': 0.010869565217391304,\n",
       " 'language manuscripts': 0.010869565217391304,\n",
       " 'manuscripts of': 0.010869565217391304,\n",
       " 'of the': 0.021739130434782608,\n",
       " 'the corpus': 0.010869565217391304,\n",
       " 'The first': 0.010869565217391304,\n",
       " 'first Greek': 0.010869565217391304,\n",
       " 'Greek Christians': 0.010869565217391304,\n",
       " 'Christians to': 0.010869565217391304,\n",
       " 'to comment': 0.010869565217391304,\n",
       " 'comment extensively': 0.010869565217391304,\n",
       " 'extensively on': 0.010869565217391304,\n",
       " 'on Aristotle': 0.010869565217391304,\n",
       " 'Aristotle were': 0.010869565217391304,\n",
       " 'were John': 0.010869565217391304,\n",
       " 'John Philoponus': 0.021739130434782608,\n",
       " 'and David': 0.010869565217391304,\n",
       " 'David in': 0.010869565217391304,\n",
       " 'the sixth': 0.010869565217391304,\n",
       " 'sixth century': 0.010869565217391304,\n",
       " 'and Stephen': 0.010869565217391304,\n",
       " 'Stephen of': 0.010869565217391304,\n",
       " 'of Alexandria': 0.010869565217391304,\n",
       " 'Alexandria in': 0.010869565217391304,\n",
       " 'the early': 0.010869565217391304,\n",
       " 'early seventh': 0.010869565217391304,\n",
       " 'seventh century': 0.010869565217391304,\n",
       " 'Philoponus stands': 0.010869565217391304,\n",
       " 'stands out': 0.010869565217391304,\n",
       " 'out for': 0.010869565217391304,\n",
       " 'for having': 0.010869565217391304,\n",
       " 'having attempted': 0.010869565217391304,\n",
       " 'attempted a': 0.010869565217391304,\n",
       " 'a fundamental': 0.010869565217391304,\n",
       " 'fundamental critique': 0.010869565217391304,\n",
       " 'critique of': 0.010869565217391304,\n",
       " 'views on': 0.010869565217391304,\n",
       " 'on the': 0.010869565217391304,\n",
       " 'the eternity': 0.010869565217391304,\n",
       " 'eternity of': 0.010869565217391304,\n",
       " 'the world': 0.010869565217391304,\n",
       " 'and other': 0.010869565217391304,\n",
       " 'other elements': 0.010869565217391304,\n",
       " 'elements of': 0.010869565217391304,\n",
       " 'of Aristotelian': 0.010869565217391304,\n",
       " 'Aristotelian thought': 0.010869565217391304,\n",
       " 'After a': 0.010869565217391304,\n",
       " 'a hiatus': 0.010869565217391304,\n",
       " 'hiatus of': 0.010869565217391304,\n",
       " 'of several': 0.010869565217391304,\n",
       " 'several centuries': 0.010869565217391304,\n",
       " 'formal commentary': 0.010869565217391304,\n",
       " 'commentary by': 0.010869565217391304,\n",
       " 'by Eustratius': 0.010869565217391304,\n",
       " 'Eustratius and': 0.010869565217391304,\n",
       " 'and Michael': 0.010869565217391304,\n",
       " 'Michael of': 0.010869565217391304,\n",
       " 'of Ephesus': 0.010869565217391304,\n",
       " 'Ephesus reappears': 0.010869565217391304,\n",
       " 'reappears in': 0.010869565217391304,\n",
       " 'the late': 0.010869565217391304,\n",
       " 'late eleventh': 0.010869565217391304,\n",
       " 'eleventh and': 0.010869565217391304,\n",
       " 'and early': 0.010869565217391304,\n",
       " 'early twelfth': 0.010869565217391304,\n",
       " 'twelfth centuries': 0.010869565217391304,\n",
       " 'apparently sponsored': 0.010869565217391304,\n",
       " 'sponsored by': 0.010869565217391304,\n",
       " 'by Anna': 0.010869565217391304,\n",
       " 'Anna Comnena': 0.010869565217391304}"
      ]
     },
     "execution_count": 116,
     "metadata": {},
     "output_type": "execute_result"
    }
   ],
   "source": [
    "big_dict[1]"
   ]
  },
  {
   "cell_type": "code",
   "execution_count": null,
   "metadata": {},
   "outputs": [],
   "source": [
    "def SCP_f(words):\n",
    "    numerator = 1\n",
    "    probabilites = []\n",
    "    \n",
    "    for w in words:\n",
    "        probabilites.append(test_dict[w] / test_number)\n",
    "        numerator *= probabilites[-1]\n",
    "    numerator = numerator ** 2\n",
    "    \n",
    "    F = 1 / (len(words) - 1)\n",
    "    denominator = 0\n",
    "    \n",
    "    for i in range(len(words)):\n",
    "        denominator += probabilites[i] * pro"
   ]
  },
  {
   "cell_type": "code",
   "execution_count": 119,
   "metadata": {},
   "outputs": [],
   "source": [
    "def SCP_f(words, big_dict):\n",
    "    words_arr = words.split()\n",
    "    \n",
    "    numerator = big_dict[len(words_arr) - 1][words] ** 2\n",
    "    F = 1 / (len(words_arr) - 1)\n",
    "    denominator = 0\n",
    "    \n",
    "    for i in range(len(words_arr) - 1):\n",
    "        left = words_arr[0:i+1]\n",
    "        right = words_arr[i+1:]\n",
    "        \n",
    "        #print(\" \".join(left) + \" + \" + \" \".join(right))\n",
    "        #print(big_dict[len(left) - 1][\" \".join(left)])\n",
    "        #print(big_dict[len(right) - 1][\" \".join(right)])\n",
    "        denominator += big_dict[len(left) - 1][\" \".join(left)] * big_dict[len(right) - 1][\" \".join(right)]\n",
    "        \n",
    "    F *= denominator\n",
    "    return numerator / F"
   ]
  },
  {
   "cell_type": "code",
   "execution_count": 122,
   "metadata": {},
   "outputs": [
    {
     "data": {
      "text/plain": [
       "1.2778827977315688"
      ]
     },
     "execution_count": 122,
     "metadata": {},
     "output_type": "execute_result"
    }
   ],
   "source": [
    "SCP_f('John Philoponus', big_dict)"
   ]
  },
  {
   "cell_type": "code",
   "execution_count": 123,
   "metadata": {},
   "outputs": [],
   "source": [
    "def SCP_f_n(big_dict, n):\n",
    "    for s in big_dict[n - 1]:\n",
    "        print(s, SCP_f(s, big_dict))"
   ]
  },
  {
   "cell_type": "code",
   "execution_count": 127,
   "metadata": {},
   "outputs": [
    {
     "name": "stdout",
     "output_type": "stream",
     "text": [
      "\n",
      "\n",
      "2 grams:\n",
      "Greek Christian 0.42596093257718964\n",
      "Christian scribes 1.2778827977315688\n",
      "scribes played 1.2778827977315688\n",
      "played a 0.42596093257718964\n",
      "a crucial 0.42596093257718964\n",
      "crucial role 1.2778827977315688\n",
      "role in 0.3194706994328922\n",
      "in the 0.6389413988657844\n",
      "the preservation 0.1597353497164461\n",
      "preservation of 0.1597353497164461\n",
      "of Aristotle 0.07986767485822305\n",
      "Aristotle by 0.21298046628859482\n",
      "by copying 0.42596093257718964\n",
      "copying all 1.2778827977315688\n",
      "all the 0.1597353497164461\n",
      "the extant 0.1597353497164461\n",
      "extant Greek 0.42596093257718964\n",
      "Greek language 0.42596093257718964\n",
      "language manuscripts 1.2778827977315688\n",
      "manuscripts of 0.1597353497164461\n",
      "of the 0.07986767485822305\n",
      "the corpus 0.1597353497164461\n",
      "The first 1.2778827977315688\n",
      "first Greek 0.42596093257718964\n",
      "Greek Christians 0.42596093257718964\n",
      "Christians to 1.2778827977315688\n",
      "to comment 1.2778827977315688\n",
      "comment extensively 1.2778827977315688\n",
      "extensively on 0.6389413988657844\n",
      "on Aristotle 0.3194706994328922\n",
      "Aristotle were 0.6389413988657844\n",
      "were John 0.6389413988657844\n",
      "John Philoponus 1.2778827977315688\n",
      "and David 0.25557655954631375\n",
      "David in 0.3194706994328922\n",
      "the sixth 0.1597353497164461\n",
      "sixth century 0.6389413988657844\n",
      "and Stephen 0.25557655954631375\n",
      "Stephen of 0.1597353497164461\n",
      "of Alexandria 0.1597353497164461\n",
      "Alexandria in 0.3194706994328922\n",
      "the early 0.07986767485822305\n",
      "early seventh 0.6389413988657844\n",
      "seventh century 0.6389413988657844\n",
      "Philoponus stands 0.6389413988657844\n",
      "stands out 1.2778827977315688\n",
      "out for 1.2778827977315688\n",
      "for having 1.2778827977315688\n",
      "having attempted 1.2778827977315688\n",
      "attempted a 0.42596093257718964\n",
      "a fundamental 0.42596093257718964\n",
      "fundamental critique 1.2778827977315688\n",
      "critique of 0.1597353497164461\n",
      "views on 0.6389413988657844\n",
      "on the 0.07986767485822305\n",
      "the eternity 0.1597353497164461\n",
      "eternity of 0.1597353497164461\n",
      "the world 0.1597353497164461\n",
      "and other 0.25557655954631375\n",
      "other elements 1.2778827977315688\n",
      "elements of 0.1597353497164461\n",
      "of Aristotelian 0.1597353497164461\n",
      "Aristotelian thought 1.2778827977315688\n",
      "After a 0.42596093257718964\n",
      "a hiatus 0.42596093257718964\n",
      "hiatus of 0.1597353497164461\n",
      "of several 0.1597353497164461\n",
      "several centuries 0.6389413988657844\n",
      "formal commentary 1.2778827977315688\n",
      "commentary by 0.42596093257718964\n",
      "by Eustratius 0.42596093257718964\n",
      "Eustratius and 0.25557655954631375\n",
      "and Michael 0.25557655954631375\n",
      "Michael of 0.1597353497164461\n",
      "of Ephesus 0.1597353497164461\n",
      "Ephesus reappears 1.2778827977315688\n",
      "reappears in 0.3194706994328922\n",
      "the late 0.1597353497164461\n",
      "late eleventh 1.2778827977315688\n",
      "eleventh and 0.25557655954631375\n",
      "and early 0.12778827977315688\n",
      "early twelfth 0.6389413988657844\n",
      "twelfth centuries 0.6389413988657844\n",
      "apparently sponsored 1.2778827977315688\n",
      "sponsored by 0.42596093257718964\n",
      "by Anna 0.42596093257718964\n",
      "Anna Comnena 1.2778827977315688\n",
      "\n",
      "\n",
      "3 grams:\n",
      "Greek Christian scribes 0.711481261154075\n",
      "Christian scribes played 1.42296252230815\n",
      "scribes played a 0.711481261154075\n",
      "played a crucial 1.42296252230815\n",
      "a crucial role 0.711481261154075\n",
      "crucial role in 0.5691850089232601\n",
      "role in the 0.23716042038469165\n",
      "in the preservation 0.3557406305770375\n",
      "the preservation of 0.17787031528851874\n",
      "preservation of Aristotle 0.9486416815387666\n",
      "of Aristotle by 0.2587204586014818\n",
      "Aristotle by copying 0.9486416815387666\n",
      "by copying all 0.711481261154075\n",
      "copying all the 0.31621389384625553\n",
      "all the extant 1.42296252230815\n",
      "the extant Greek 0.2587204586014818\n",
      "extant Greek language 1.42296252230815\n",
      "Greek language manuscripts 0.711481261154075\n",
      "language manuscripts of 0.31621389384625553\n",
      "manuscripts of the 0.28459250446163004\n",
      "of the corpus 0.28459250446163004\n",
      "The first Greek 0.711481261154075\n",
      "first Greek Christians 1.42296252230815\n",
      "Greek Christians to 0.711481261154075\n",
      "Christians to comment 1.42296252230815\n",
      "to comment extensively 1.42296252230815\n",
      "comment extensively on 0.9486416815387666\n",
      "extensively on Aristotle 0.9486416815387666\n",
      "on Aristotle were 0.9486416815387666\n",
      "Aristotle were John 0.711481261154075\n",
      "were John Philoponus 0.711481261154075\n",
      "and David in 0.31621389384625553\n",
      "David in the 0.23716042038469165\n",
      "in the sixth 0.3557406305770375\n",
      "the sixth century 0.28459250446163004\n",
      "and Stephen of 0.21891731112433077\n",
      "Stephen of Alexandria 1.42296252230815\n",
      "of Alexandria in 0.23716042038469165\n",
      "Alexandria in the 0.23716042038469165\n",
      "in the early 0.23716042038469165\n",
      "the early seventh 0.31621389384625553\n",
      "early seventh century 0.711481261154075\n",
      "John Philoponus stands 0.711481261154075\n",
      "Philoponus stands out 0.9486416815387666\n",
      "stands out for 1.42296252230815\n",
      "out for having 1.42296252230815\n",
      "for having attempted 1.42296252230815\n",
      "having attempted a 0.711481261154075\n",
      "attempted a fundamental 1.42296252230815\n",
      "a fundamental critique 0.711481261154075\n",
      "fundamental critique of 0.31621389384625553\n",
      "views on the 0.31621389384625553\n",
      "on the eternity 0.9486416815387666\n",
      "the eternity of 0.17787031528851874\n",
      "eternity of the 0.28459250446163004\n",
      "of the world 0.28459250446163004\n",
      "and other elements 0.4743208407693833\n",
      "other elements of 0.31621389384625553\n",
      "elements of Aristotelian 1.42296252230815\n",
      "of Aristotelian thought 0.31621389384625553\n",
      "After a hiatus 1.42296252230815\n",
      "a hiatus of 0.2587204586014818\n",
      "hiatus of several 1.42296252230815\n",
      "of several centuries 0.28459250446163004\n",
      "formal commentary by 0.711481261154075\n",
      "commentary by Eustratius 1.42296252230815\n",
      "by Eustratius and 0.3557406305770375\n",
      "Eustratius and Michael 1.42296252230815\n",
      "and Michael of 0.21891731112433077\n",
      "Michael of Ephesus 1.42296252230815\n",
      "of Ephesus reappears 0.31621389384625553\n",
      "Ephesus reappears in 0.5691850089232601\n",
      "reappears in the 0.23716042038469165\n",
      "in the late 0.3557406305770375\n",
      "the late eleventh 0.31621389384625553\n",
      "late eleventh and 0.4743208407693833\n",
      "eleventh and early 0.9486416815387666\n",
      "and early twelfth 0.4743208407693833\n",
      "early twelfth centuries 0.711481261154075\n",
      "apparently sponsored by 0.711481261154075\n",
      "sponsored by Anna 1.42296252230815\n",
      "by Anna Comnena 0.711481261154075\n"
     ]
    }
   ],
   "source": [
    "for i in range(2, 4):\n",
    "    print(\"\\n\")\n",
    "    print(i, \"grams:\")\n",
    "    SCP_f_n(big_dict, i)"
   ]
  }
 ],
 "metadata": {
  "kernelspec": {
   "display_name": "Python 3",
   "language": "python",
   "name": "python3"
  },
  "language_info": {
   "codemirror_mode": {
    "name": "ipython",
    "version": 3
   },
   "file_extension": ".py",
   "mimetype": "text/x-python",
   "name": "python",
   "nbconvert_exporter": "python",
   "pygments_lexer": "ipython3",
   "version": "3.7.0"
  }
 },
 "nbformat": 4,
 "nbformat_minor": 2
}
